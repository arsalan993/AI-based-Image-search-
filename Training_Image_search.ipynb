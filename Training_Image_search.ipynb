{
  "nbformat": 4,
  "nbformat_minor": 0,
  "metadata": {
    "colab": {
      "name": "Training - Image search.ipynb",
      "provenance": [],
      "collapsed_sections": [],
      "authorship_tag": "ABX9TyOyxC6RWRn/kzgEoLIIMRPw",
      "include_colab_link": true
    },
    "kernelspec": {
      "name": "python3",
      "display_name": "Python 3"
    },
    "accelerator": "GPU",
    "widgets": {
      "application/vnd.jupyter.widget-state+json": {
        "b4a54319790b4b4c98d5be6ab9e432c4": {
          "model_module": "@jupyter-widgets/controls",
          "model_name": "HBoxModel",
          "state": {
            "_view_name": "HBoxView",
            "_dom_classes": [],
            "_model_name": "HBoxModel",
            "_view_module": "@jupyter-widgets/controls",
            "_model_module_version": "1.5.0",
            "_view_count": null,
            "_view_module_version": "1.5.0",
            "box_style": "",
            "layout": "IPY_MODEL_b18201b2489244c998aff6ec47090490",
            "_model_module": "@jupyter-widgets/controls",
            "children": [
              "IPY_MODEL_525d11481383492584a95006e24e1c0a",
              "IPY_MODEL_05b09345fc8443e5844158227fa6801d"
            ]
          }
        },
        "b18201b2489244c998aff6ec47090490": {
          "model_module": "@jupyter-widgets/base",
          "model_name": "LayoutModel",
          "state": {
            "_view_name": "LayoutView",
            "grid_template_rows": null,
            "right": null,
            "justify_content": null,
            "_view_module": "@jupyter-widgets/base",
            "overflow": null,
            "_model_module_version": "1.2.0",
            "_view_count": null,
            "flex_flow": null,
            "width": null,
            "min_width": null,
            "border": null,
            "align_items": null,
            "bottom": null,
            "_model_module": "@jupyter-widgets/base",
            "top": null,
            "grid_column": null,
            "overflow_y": null,
            "overflow_x": null,
            "grid_auto_flow": null,
            "grid_area": null,
            "grid_template_columns": null,
            "flex": null,
            "_model_name": "LayoutModel",
            "justify_items": null,
            "grid_row": null,
            "max_height": null,
            "align_content": null,
            "visibility": null,
            "align_self": null,
            "height": null,
            "min_height": null,
            "padding": null,
            "grid_auto_rows": null,
            "grid_gap": null,
            "max_width": null,
            "order": null,
            "_view_module_version": "1.2.0",
            "grid_template_areas": null,
            "object_position": null,
            "object_fit": null,
            "grid_auto_columns": null,
            "margin": null,
            "display": null,
            "left": null
          }
        },
        "525d11481383492584a95006e24e1c0a": {
          "model_module": "@jupyter-widgets/controls",
          "model_name": "FloatProgressModel",
          "state": {
            "_view_name": "ProgressView",
            "style": "IPY_MODEL_2220864d1a8845b6803ed06f10f15baf",
            "_dom_classes": [],
            "description": "100%",
            "_model_name": "FloatProgressModel",
            "bar_style": "success",
            "max": 87306240,
            "_view_module": "@jupyter-widgets/controls",
            "_model_module_version": "1.5.0",
            "value": 87306240,
            "_view_count": null,
            "_view_module_version": "1.5.0",
            "orientation": "horizontal",
            "min": 0,
            "description_tooltip": null,
            "_model_module": "@jupyter-widgets/controls",
            "layout": "IPY_MODEL_edbce2c6c07346909926399a1bd58278"
          }
        },
        "05b09345fc8443e5844158227fa6801d": {
          "model_module": "@jupyter-widgets/controls",
          "model_name": "HTMLModel",
          "state": {
            "_view_name": "HTMLView",
            "style": "IPY_MODEL_21585492957f4ee8bf308754f0153dc6",
            "_dom_classes": [],
            "description": "",
            "_model_name": "HTMLModel",
            "placeholder": "​",
            "_view_module": "@jupyter-widgets/controls",
            "_model_module_version": "1.5.0",
            "value": " 83.3M/83.3M [00:06&lt;00:00, 13.7MB/s]",
            "_view_count": null,
            "_view_module_version": "1.5.0",
            "description_tooltip": null,
            "_model_module": "@jupyter-widgets/controls",
            "layout": "IPY_MODEL_b4e66c7ffc934084ac21485d0008b85c"
          }
        },
        "2220864d1a8845b6803ed06f10f15baf": {
          "model_module": "@jupyter-widgets/controls",
          "model_name": "ProgressStyleModel",
          "state": {
            "_view_name": "StyleView",
            "_model_name": "ProgressStyleModel",
            "description_width": "initial",
            "_view_module": "@jupyter-widgets/base",
            "_model_module_version": "1.5.0",
            "_view_count": null,
            "_view_module_version": "1.2.0",
            "bar_color": null,
            "_model_module": "@jupyter-widgets/controls"
          }
        },
        "edbce2c6c07346909926399a1bd58278": {
          "model_module": "@jupyter-widgets/base",
          "model_name": "LayoutModel",
          "state": {
            "_view_name": "LayoutView",
            "grid_template_rows": null,
            "right": null,
            "justify_content": null,
            "_view_module": "@jupyter-widgets/base",
            "overflow": null,
            "_model_module_version": "1.2.0",
            "_view_count": null,
            "flex_flow": null,
            "width": null,
            "min_width": null,
            "border": null,
            "align_items": null,
            "bottom": null,
            "_model_module": "@jupyter-widgets/base",
            "top": null,
            "grid_column": null,
            "overflow_y": null,
            "overflow_x": null,
            "grid_auto_flow": null,
            "grid_area": null,
            "grid_template_columns": null,
            "flex": null,
            "_model_name": "LayoutModel",
            "justify_items": null,
            "grid_row": null,
            "max_height": null,
            "align_content": null,
            "visibility": null,
            "align_self": null,
            "height": null,
            "min_height": null,
            "padding": null,
            "grid_auto_rows": null,
            "grid_gap": null,
            "max_width": null,
            "order": null,
            "_view_module_version": "1.2.0",
            "grid_template_areas": null,
            "object_position": null,
            "object_fit": null,
            "grid_auto_columns": null,
            "margin": null,
            "display": null,
            "left": null
          }
        },
        "21585492957f4ee8bf308754f0153dc6": {
          "model_module": "@jupyter-widgets/controls",
          "model_name": "DescriptionStyleModel",
          "state": {
            "_view_name": "StyleView",
            "_model_name": "DescriptionStyleModel",
            "description_width": "",
            "_view_module": "@jupyter-widgets/base",
            "_model_module_version": "1.5.0",
            "_view_count": null,
            "_view_module_version": "1.2.0",
            "_model_module": "@jupyter-widgets/controls"
          }
        },
        "b4e66c7ffc934084ac21485d0008b85c": {
          "model_module": "@jupyter-widgets/base",
          "model_name": "LayoutModel",
          "state": {
            "_view_name": "LayoutView",
            "grid_template_rows": null,
            "right": null,
            "justify_content": null,
            "_view_module": "@jupyter-widgets/base",
            "overflow": null,
            "_model_module_version": "1.2.0",
            "_view_count": null,
            "flex_flow": null,
            "width": null,
            "min_width": null,
            "border": null,
            "align_items": null,
            "bottom": null,
            "_model_module": "@jupyter-widgets/base",
            "top": null,
            "grid_column": null,
            "overflow_y": null,
            "overflow_x": null,
            "grid_auto_flow": null,
            "grid_area": null,
            "grid_template_columns": null,
            "flex": null,
            "_model_name": "LayoutModel",
            "justify_items": null,
            "grid_row": null,
            "max_height": null,
            "align_content": null,
            "visibility": null,
            "align_self": null,
            "height": null,
            "min_height": null,
            "padding": null,
            "grid_auto_rows": null,
            "grid_gap": null,
            "max_width": null,
            "order": null,
            "_view_module_version": "1.2.0",
            "grid_template_areas": null,
            "object_position": null,
            "object_fit": null,
            "grid_auto_columns": null,
            "margin": null,
            "display": null,
            "left": null
          }
        },
        "f391f1a266aa47c8b04a3fe56ccc0e07": {
          "model_module": "@jupyter-widgets/controls",
          "model_name": "VBoxModel",
          "state": {
            "_view_name": "VBoxView",
            "_dom_classes": [],
            "_model_name": "VBoxModel",
            "_view_module": "@jupyter-widgets/controls",
            "_model_module_version": "1.5.0",
            "_view_count": null,
            "_view_module_version": "1.5.0",
            "box_style": "",
            "layout": "IPY_MODEL_40357e2d2633487494c1cf0f57bdba93",
            "_model_module": "@jupyter-widgets/controls",
            "children": [
              "IPY_MODEL_6764be98a15e4175b41829f448588da7",
              "IPY_MODEL_54b982a7f0474573a24c235fb7ee7f06",
              "IPY_MODEL_68ecef226b4e472a9ccc100900404768",
              "IPY_MODEL_14ee5881513a4a1695062ab240893918",
              "IPY_MODEL_44f32e0bf2974abca7c830b82acde3ef"
            ]
          }
        },
        "40357e2d2633487494c1cf0f57bdba93": {
          "model_module": "@jupyter-widgets/base",
          "model_name": "LayoutModel",
          "state": {
            "_view_name": "LayoutView",
            "grid_template_rows": null,
            "right": null,
            "justify_content": null,
            "_view_module": "@jupyter-widgets/base",
            "overflow": null,
            "_model_module_version": "1.2.0",
            "_view_count": null,
            "flex_flow": null,
            "width": null,
            "min_width": null,
            "border": null,
            "align_items": null,
            "bottom": null,
            "_model_module": "@jupyter-widgets/base",
            "top": null,
            "grid_column": null,
            "overflow_y": null,
            "overflow_x": null,
            "grid_auto_flow": null,
            "grid_area": null,
            "grid_template_columns": null,
            "flex": null,
            "_model_name": "LayoutModel",
            "justify_items": null,
            "grid_row": null,
            "max_height": null,
            "align_content": null,
            "visibility": null,
            "align_self": null,
            "height": null,
            "min_height": null,
            "padding": null,
            "grid_auto_rows": null,
            "grid_gap": null,
            "max_width": null,
            "order": null,
            "_view_module_version": "1.2.0",
            "grid_template_areas": null,
            "object_position": null,
            "object_fit": null,
            "grid_auto_columns": null,
            "margin": null,
            "display": null,
            "left": null
          }
        },
        "14ee5881513a4a1695062ab240893918": {
          "model_module": "@jupyter-widgets/controls",
          "model_name": "HBoxModel",
          "state": {
            "_view_name": "HBoxView",
            "_dom_classes": [],
            "_model_name": "HBoxModel",
            "_view_module": "@jupyter-widgets/controls",
            "_model_module_version": "1.5.0",
            "_view_count": null,
            "_view_module_version": "1.5.0",
            "box_style": "",
            "layout": "IPY_MODEL_7d923fbb8c8b495294d698d892f8204d",
            "_model_module": "@jupyter-widgets/controls",
            "children": [
              "IPY_MODEL_e2b0406678dc48acb4706538bd743684",
              "IPY_MODEL_aff8ffe6922a4bbb87bd2581e1184946"
            ]
          }
        },
        "7d923fbb8c8b495294d698d892f8204d": {
          "model_module": "@jupyter-widgets/base",
          "model_name": "LayoutModel",
          "state": {
            "_view_name": "LayoutView",
            "grid_template_rows": null,
            "right": null,
            "justify_content": null,
            "_view_module": "@jupyter-widgets/base",
            "overflow": null,
            "_model_module_version": "1.2.0",
            "_view_count": null,
            "flex_flow": null,
            "width": null,
            "min_width": null,
            "border": null,
            "align_items": null,
            "bottom": null,
            "_model_module": "@jupyter-widgets/base",
            "top": null,
            "grid_column": null,
            "overflow_y": null,
            "overflow_x": null,
            "grid_auto_flow": null,
            "grid_area": null,
            "grid_template_columns": null,
            "flex": null,
            "_model_name": "LayoutModel",
            "justify_items": null,
            "grid_row": null,
            "max_height": null,
            "align_content": null,
            "visibility": null,
            "align_self": null,
            "height": null,
            "min_height": null,
            "padding": null,
            "grid_auto_rows": null,
            "grid_gap": null,
            "max_width": null,
            "order": null,
            "_view_module_version": "1.2.0",
            "grid_template_areas": null,
            "object_position": null,
            "object_fit": null,
            "grid_auto_columns": null,
            "margin": null,
            "display": null,
            "left": null
          }
        },
        "e2b0406678dc48acb4706538bd743684": {
          "model_module": "@jupyter-widgets/controls",
          "model_name": "IntProgressModel",
          "state": {
            "_view_name": "ProgressView",
            "style": "IPY_MODEL_0174e3bbe85b4b46aff1156ef2e4ff57",
            "_dom_classes": [],
            "description": "<pre> 33.33%</pre>",
            "_model_name": "IntProgressModel",
            "bar_style": "",
            "max": 3,
            "_view_module": "@jupyter-widgets/controls",
            "_model_module_version": "1.5.0",
            "value": 1,
            "_view_count": null,
            "_view_module_version": "1.5.0",
            "orientation": "horizontal",
            "min": 0,
            "description_tooltip": null,
            "_model_module": "@jupyter-widgets/controls",
            "layout": "IPY_MODEL_bf7250f40c5c47a49a54ff71d4da872a"
          }
        },
        "aff8ffe6922a4bbb87bd2581e1184946": {
          "model_module": "@jupyter-widgets/controls",
          "model_name": "HTMLModel",
          "state": {
            "_view_name": "HTMLView",
            "style": "IPY_MODEL_99695576640a4775b2f4ab15f51c082b",
            "_dom_classes": [],
            "description": "",
            "_model_name": "HTMLModel",
            "placeholder": "​",
            "_view_module": "@jupyter-widgets/controls",
            "_model_module_version": "1.5.0",
            "value": "<pre> |        1 /        3 |: Epoch status                    </pre>",
            "_view_count": null,
            "_view_module_version": "1.5.0",
            "description_tooltip": null,
            "_model_module": "@jupyter-widgets/controls",
            "layout": "IPY_MODEL_5aecfba9225b4651a1c1a3070a7d6143"
          }
        },
        "0174e3bbe85b4b46aff1156ef2e4ff57": {
          "model_module": "@jupyter-widgets/controls",
          "model_name": "ProgressStyleModel",
          "state": {
            "_view_name": "StyleView",
            "_model_name": "ProgressStyleModel",
            "description_width": "",
            "_view_module": "@jupyter-widgets/base",
            "_model_module_version": "1.5.0",
            "_view_count": null,
            "_view_module_version": "1.2.0",
            "bar_color": null,
            "_model_module": "@jupyter-widgets/controls"
          }
        },
        "bf7250f40c5c47a49a54ff71d4da872a": {
          "model_module": "@jupyter-widgets/base",
          "model_name": "LayoutModel",
          "state": {
            "_view_name": "LayoutView",
            "grid_template_rows": null,
            "right": null,
            "justify_content": null,
            "_view_module": "@jupyter-widgets/base",
            "overflow": null,
            "_model_module_version": "1.2.0",
            "_view_count": null,
            "flex_flow": null,
            "width": null,
            "min_width": null,
            "border": null,
            "align_items": null,
            "bottom": null,
            "_model_module": "@jupyter-widgets/base",
            "top": null,
            "grid_column": null,
            "overflow_y": null,
            "overflow_x": null,
            "grid_auto_flow": null,
            "grid_area": null,
            "grid_template_columns": null,
            "flex": null,
            "_model_name": "LayoutModel",
            "justify_items": null,
            "grid_row": null,
            "max_height": null,
            "align_content": null,
            "visibility": null,
            "align_self": null,
            "height": null,
            "min_height": null,
            "padding": null,
            "grid_auto_rows": null,
            "grid_gap": null,
            "max_width": null,
            "order": null,
            "_view_module_version": "1.2.0",
            "grid_template_areas": null,
            "object_position": null,
            "object_fit": null,
            "grid_auto_columns": null,
            "margin": null,
            "display": null,
            "left": null
          }
        },
        "99695576640a4775b2f4ab15f51c082b": {
          "model_module": "@jupyter-widgets/controls",
          "model_name": "DescriptionStyleModel",
          "state": {
            "_view_name": "StyleView",
            "_model_name": "DescriptionStyleModel",
            "description_width": "",
            "_view_module": "@jupyter-widgets/base",
            "_model_module_version": "1.5.0",
            "_view_count": null,
            "_view_module_version": "1.2.0",
            "_model_module": "@jupyter-widgets/controls"
          }
        },
        "5aecfba9225b4651a1c1a3070a7d6143": {
          "model_module": "@jupyter-widgets/base",
          "model_name": "LayoutModel",
          "state": {
            "_view_name": "LayoutView",
            "grid_template_rows": null,
            "right": null,
            "justify_content": null,
            "_view_module": "@jupyter-widgets/base",
            "overflow": null,
            "_model_module_version": "1.2.0",
            "_view_count": null,
            "flex_flow": null,
            "width": null,
            "min_width": null,
            "border": null,
            "align_items": null,
            "bottom": null,
            "_model_module": "@jupyter-widgets/base",
            "top": null,
            "grid_column": null,
            "overflow_y": null,
            "overflow_x": null,
            "grid_auto_flow": null,
            "grid_area": null,
            "grid_template_columns": null,
            "flex": null,
            "_model_name": "LayoutModel",
            "justify_items": null,
            "grid_row": null,
            "max_height": null,
            "align_content": null,
            "visibility": null,
            "align_self": null,
            "height": null,
            "min_height": null,
            "padding": null,
            "grid_auto_rows": null,
            "grid_gap": null,
            "max_width": null,
            "order": null,
            "_view_module_version": "1.2.0",
            "grid_template_areas": null,
            "object_position": null,
            "object_fit": null,
            "grid_auto_columns": null,
            "margin": null,
            "display": null,
            "left": null
          }
        },
        "6764be98a15e4175b41829f448588da7": {
          "model_module": "@jupyter-widgets/controls",
          "model_name": "HBoxModel",
          "state": {
            "_view_name": "HBoxView",
            "_dom_classes": [],
            "_model_name": "HBoxModel",
            "_view_module": "@jupyter-widgets/controls",
            "_model_module_version": "1.5.0",
            "_view_count": null,
            "_view_module_version": "1.5.0",
            "box_style": "",
            "layout": "IPY_MODEL_4cfcbd411d29407088ff18a895427947",
            "_model_module": "@jupyter-widgets/controls",
            "children": [
              "IPY_MODEL_6a3cac2af17b4890bd061811d796ceb2",
              "IPY_MODEL_2f8e113cb9954677a85255b73ea1724f"
            ]
          }
        },
        "4cfcbd411d29407088ff18a895427947": {
          "model_module": "@jupyter-widgets/base",
          "model_name": "LayoutModel",
          "state": {
            "_view_name": "LayoutView",
            "grid_template_rows": null,
            "right": null,
            "justify_content": null,
            "_view_module": "@jupyter-widgets/base",
            "overflow": null,
            "_model_module_version": "1.2.0",
            "_view_count": null,
            "flex_flow": null,
            "width": null,
            "min_width": null,
            "border": null,
            "align_items": null,
            "bottom": null,
            "_model_module": "@jupyter-widgets/base",
            "top": null,
            "grid_column": null,
            "overflow_y": null,
            "overflow_x": null,
            "grid_auto_flow": null,
            "grid_area": null,
            "grid_template_columns": null,
            "flex": null,
            "_model_name": "LayoutModel",
            "justify_items": null,
            "grid_row": null,
            "max_height": null,
            "align_content": null,
            "visibility": null,
            "align_self": null,
            "height": null,
            "min_height": null,
            "padding": null,
            "grid_auto_rows": null,
            "grid_gap": null,
            "max_width": null,
            "order": null,
            "_view_module_version": "1.2.0",
            "grid_template_areas": null,
            "object_position": null,
            "object_fit": null,
            "grid_auto_columns": null,
            "margin": null,
            "display": null,
            "left": null
          }
        },
        "6a3cac2af17b4890bd061811d796ceb2": {
          "model_module": "@jupyter-widgets/controls",
          "model_name": "IntProgressModel",
          "state": {
            "_view_name": "ProgressView",
            "style": "IPY_MODEL_32602ad728c040dd98c81cdcc5ec628f",
            "_dom_classes": [],
            "description": "<pre>100.00%</pre>",
            "_model_name": "IntProgressModel",
            "bar_style": "success",
            "max": 250,
            "_view_module": "@jupyter-widgets/controls",
            "_model_module_version": "1.5.0",
            "value": 250,
            "_view_count": null,
            "_view_module_version": "1.5.0",
            "orientation": "horizontal",
            "min": 0,
            "description_tooltip": null,
            "_model_module": "@jupyter-widgets/controls",
            "layout": "IPY_MODEL_db829d4c73bc4c86a5ddc3916508fa4d"
          }
        },
        "2f8e113cb9954677a85255b73ea1724f": {
          "model_module": "@jupyter-widgets/controls",
          "model_name": "HTMLModel",
          "state": {
            "_view_name": "HTMLView",
            "style": "IPY_MODEL_7179bb0644c3455da2ff81e96b02b3a2",
            "_dom_classes": [],
            "description": "",
            "_model_name": "HTMLModel",
            "placeholder": "​",
            "_view_module": "@jupyter-widgets/controls",
            "_model_module_version": "1.5.0",
            "value": "<pre> |      250 /      250 |: train for epoch 0               </pre>",
            "_view_count": null,
            "_view_module_version": "1.5.0",
            "description_tooltip": null,
            "_model_module": "@jupyter-widgets/controls",
            "layout": "IPY_MODEL_b5b4fb26ee774648a012d1b280d95f11"
          }
        },
        "32602ad728c040dd98c81cdcc5ec628f": {
          "model_module": "@jupyter-widgets/controls",
          "model_name": "ProgressStyleModel",
          "state": {
            "_view_name": "StyleView",
            "_model_name": "ProgressStyleModel",
            "description_width": "",
            "_view_module": "@jupyter-widgets/base",
            "_model_module_version": "1.5.0",
            "_view_count": null,
            "_view_module_version": "1.2.0",
            "bar_color": null,
            "_model_module": "@jupyter-widgets/controls"
          }
        },
        "db829d4c73bc4c86a5ddc3916508fa4d": {
          "model_module": "@jupyter-widgets/base",
          "model_name": "LayoutModel",
          "state": {
            "_view_name": "LayoutView",
            "grid_template_rows": null,
            "right": null,
            "justify_content": null,
            "_view_module": "@jupyter-widgets/base",
            "overflow": null,
            "_model_module_version": "1.2.0",
            "_view_count": null,
            "flex_flow": null,
            "width": null,
            "min_width": null,
            "border": null,
            "align_items": null,
            "bottom": null,
            "_model_module": "@jupyter-widgets/base",
            "top": null,
            "grid_column": null,
            "overflow_y": null,
            "overflow_x": null,
            "grid_auto_flow": null,
            "grid_area": null,
            "grid_template_columns": null,
            "flex": null,
            "_model_name": "LayoutModel",
            "justify_items": null,
            "grid_row": null,
            "max_height": null,
            "align_content": null,
            "visibility": null,
            "align_self": null,
            "height": null,
            "min_height": null,
            "padding": null,
            "grid_auto_rows": null,
            "grid_gap": null,
            "max_width": null,
            "order": null,
            "_view_module_version": "1.2.0",
            "grid_template_areas": null,
            "object_position": null,
            "object_fit": null,
            "grid_auto_columns": null,
            "margin": null,
            "display": null,
            "left": null
          }
        },
        "7179bb0644c3455da2ff81e96b02b3a2": {
          "model_module": "@jupyter-widgets/controls",
          "model_name": "DescriptionStyleModel",
          "state": {
            "_view_name": "StyleView",
            "_model_name": "DescriptionStyleModel",
            "description_width": "",
            "_view_module": "@jupyter-widgets/base",
            "_model_module_version": "1.5.0",
            "_view_count": null,
            "_view_module_version": "1.2.0",
            "_model_module": "@jupyter-widgets/controls"
          }
        },
        "b5b4fb26ee774648a012d1b280d95f11": {
          "model_module": "@jupyter-widgets/base",
          "model_name": "LayoutModel",
          "state": {
            "_view_name": "LayoutView",
            "grid_template_rows": null,
            "right": null,
            "justify_content": null,
            "_view_module": "@jupyter-widgets/base",
            "overflow": null,
            "_model_module_version": "1.2.0",
            "_view_count": null,
            "flex_flow": null,
            "width": null,
            "min_width": null,
            "border": null,
            "align_items": null,
            "bottom": null,
            "_model_module": "@jupyter-widgets/base",
            "top": null,
            "grid_column": null,
            "overflow_y": null,
            "overflow_x": null,
            "grid_auto_flow": null,
            "grid_area": null,
            "grid_template_columns": null,
            "flex": null,
            "_model_name": "LayoutModel",
            "justify_items": null,
            "grid_row": null,
            "max_height": null,
            "align_content": null,
            "visibility": null,
            "align_self": null,
            "height": null,
            "min_height": null,
            "padding": null,
            "grid_auto_rows": null,
            "grid_gap": null,
            "max_width": null,
            "order": null,
            "_view_module_version": "1.2.0",
            "grid_template_areas": null,
            "object_position": null,
            "object_fit": null,
            "grid_auto_columns": null,
            "margin": null,
            "display": null,
            "left": null
          }
        },
        "54b982a7f0474573a24c235fb7ee7f06": {
          "model_module": "@jupyter-widgets/controls",
          "model_name": "HBoxModel",
          "state": {
            "_view_name": "HBoxView",
            "_dom_classes": [],
            "_model_name": "HBoxModel",
            "_view_module": "@jupyter-widgets/controls",
            "_model_module_version": "1.5.0",
            "_view_count": null,
            "_view_module_version": "1.5.0",
            "box_style": "",
            "layout": "IPY_MODEL_f1557aaac95845dfb9aeb648fd102d01",
            "_model_module": "@jupyter-widgets/controls",
            "children": [
              "IPY_MODEL_3f1da8859e9d431da174ffc30b4eba2f",
              "IPY_MODEL_b03c08fa2eb34544a4cde2b80c720d59"
            ]
          }
        },
        "f1557aaac95845dfb9aeb648fd102d01": {
          "model_module": "@jupyter-widgets/base",
          "model_name": "LayoutModel",
          "state": {
            "_view_name": "LayoutView",
            "grid_template_rows": null,
            "right": null,
            "justify_content": null,
            "_view_module": "@jupyter-widgets/base",
            "overflow": null,
            "_model_module_version": "1.2.0",
            "_view_count": null,
            "flex_flow": null,
            "width": null,
            "min_width": null,
            "border": null,
            "align_items": null,
            "bottom": null,
            "_model_module": "@jupyter-widgets/base",
            "top": null,
            "grid_column": null,
            "overflow_y": null,
            "overflow_x": null,
            "grid_auto_flow": null,
            "grid_area": null,
            "grid_template_columns": null,
            "flex": null,
            "_model_name": "LayoutModel",
            "justify_items": null,
            "grid_row": null,
            "max_height": null,
            "align_content": null,
            "visibility": null,
            "align_self": null,
            "height": null,
            "min_height": null,
            "padding": null,
            "grid_auto_rows": null,
            "grid_gap": null,
            "max_width": null,
            "order": null,
            "_view_module_version": "1.2.0",
            "grid_template_areas": null,
            "object_position": null,
            "object_fit": null,
            "grid_auto_columns": null,
            "margin": null,
            "display": null,
            "left": null
          }
        },
        "3f1da8859e9d431da174ffc30b4eba2f": {
          "model_module": "@jupyter-widgets/controls",
          "model_name": "IntProgressModel",
          "state": {
            "_view_name": "ProgressView",
            "style": "IPY_MODEL_6f296d4e0f5d4fe8823280928a855646",
            "_dom_classes": [],
            "description": "<pre>100.00%</pre>",
            "_model_name": "IntProgressModel",
            "bar_style": "success",
            "max": 250,
            "_view_module": "@jupyter-widgets/controls",
            "_model_module_version": "1.5.0",
            "value": 250,
            "_view_count": null,
            "_view_module_version": "1.5.0",
            "orientation": "horizontal",
            "min": 0,
            "description_tooltip": null,
            "_model_module": "@jupyter-widgets/controls",
            "layout": "IPY_MODEL_b7a91029d4d44b22ab4c66b2016bf766"
          }
        },
        "b03c08fa2eb34544a4cde2b80c720d59": {
          "model_module": "@jupyter-widgets/controls",
          "model_name": "HTMLModel",
          "state": {
            "_view_name": "HTMLView",
            "style": "IPY_MODEL_e266a967f13c44d39f94dbae200cd3c4",
            "_dom_classes": [],
            "description": "",
            "_model_name": "HTMLModel",
            "placeholder": "​",
            "_view_module": "@jupyter-widgets/controls",
            "_model_module_version": "1.5.0",
            "value": "<pre> |      250 /      250 |: val for epoch 0                 </pre>",
            "_view_count": null,
            "_view_module_version": "1.5.0",
            "description_tooltip": null,
            "_model_module": "@jupyter-widgets/controls",
            "layout": "IPY_MODEL_7240a3d6649e42da90116c1e4dda0dba"
          }
        },
        "6f296d4e0f5d4fe8823280928a855646": {
          "model_module": "@jupyter-widgets/controls",
          "model_name": "ProgressStyleModel",
          "state": {
            "_view_name": "StyleView",
            "_model_name": "ProgressStyleModel",
            "description_width": "",
            "_view_module": "@jupyter-widgets/base",
            "_model_module_version": "1.5.0",
            "_view_count": null,
            "_view_module_version": "1.2.0",
            "bar_color": null,
            "_model_module": "@jupyter-widgets/controls"
          }
        },
        "b7a91029d4d44b22ab4c66b2016bf766": {
          "model_module": "@jupyter-widgets/base",
          "model_name": "LayoutModel",
          "state": {
            "_view_name": "LayoutView",
            "grid_template_rows": null,
            "right": null,
            "justify_content": null,
            "_view_module": "@jupyter-widgets/base",
            "overflow": null,
            "_model_module_version": "1.2.0",
            "_view_count": null,
            "flex_flow": null,
            "width": null,
            "min_width": null,
            "border": null,
            "align_items": null,
            "bottom": null,
            "_model_module": "@jupyter-widgets/base",
            "top": null,
            "grid_column": null,
            "overflow_y": null,
            "overflow_x": null,
            "grid_auto_flow": null,
            "grid_area": null,
            "grid_template_columns": null,
            "flex": null,
            "_model_name": "LayoutModel",
            "justify_items": null,
            "grid_row": null,
            "max_height": null,
            "align_content": null,
            "visibility": null,
            "align_self": null,
            "height": null,
            "min_height": null,
            "padding": null,
            "grid_auto_rows": null,
            "grid_gap": null,
            "max_width": null,
            "order": null,
            "_view_module_version": "1.2.0",
            "grid_template_areas": null,
            "object_position": null,
            "object_fit": null,
            "grid_auto_columns": null,
            "margin": null,
            "display": null,
            "left": null
          }
        },
        "e266a967f13c44d39f94dbae200cd3c4": {
          "model_module": "@jupyter-widgets/controls",
          "model_name": "DescriptionStyleModel",
          "state": {
            "_view_name": "StyleView",
            "_model_name": "DescriptionStyleModel",
            "description_width": "",
            "_view_module": "@jupyter-widgets/base",
            "_model_module_version": "1.5.0",
            "_view_count": null,
            "_view_module_version": "1.2.0",
            "_model_module": "@jupyter-widgets/controls"
          }
        },
        "7240a3d6649e42da90116c1e4dda0dba": {
          "model_module": "@jupyter-widgets/base",
          "model_name": "LayoutModel",
          "state": {
            "_view_name": "LayoutView",
            "grid_template_rows": null,
            "right": null,
            "justify_content": null,
            "_view_module": "@jupyter-widgets/base",
            "overflow": null,
            "_model_module_version": "1.2.0",
            "_view_count": null,
            "flex_flow": null,
            "width": null,
            "min_width": null,
            "border": null,
            "align_items": null,
            "bottom": null,
            "_model_module": "@jupyter-widgets/base",
            "top": null,
            "grid_column": null,
            "overflow_y": null,
            "overflow_x": null,
            "grid_auto_flow": null,
            "grid_area": null,
            "grid_template_columns": null,
            "flex": null,
            "_model_name": "LayoutModel",
            "justify_items": null,
            "grid_row": null,
            "max_height": null,
            "align_content": null,
            "visibility": null,
            "align_self": null,
            "height": null,
            "min_height": null,
            "padding": null,
            "grid_auto_rows": null,
            "grid_gap": null,
            "max_width": null,
            "order": null,
            "_view_module_version": "1.2.0",
            "grid_template_areas": null,
            "object_position": null,
            "object_fit": null,
            "grid_auto_columns": null,
            "margin": null,
            "display": null,
            "left": null
          }
        },
        "68ecef226b4e472a9ccc100900404768": {
          "model_module": "@jupyter-widgets/controls",
          "model_name": "HBoxModel",
          "state": {
            "_view_name": "HBoxView",
            "_dom_classes": [],
            "_model_name": "HBoxModel",
            "_view_module": "@jupyter-widgets/controls",
            "_model_module_version": "1.5.0",
            "_view_count": null,
            "_view_module_version": "1.5.0",
            "box_style": "",
            "layout": "IPY_MODEL_53d708ae27c94dd193aa638d8c78ad46",
            "_model_module": "@jupyter-widgets/controls",
            "children": [
              "IPY_MODEL_b002d32c1bd34d72bb1a1bad1f2b6a88",
              "IPY_MODEL_596b26a9136c497382493b0b1e705d78"
            ]
          }
        },
        "53d708ae27c94dd193aa638d8c78ad46": {
          "model_module": "@jupyter-widgets/base",
          "model_name": "LayoutModel",
          "state": {
            "_view_name": "LayoutView",
            "grid_template_rows": null,
            "right": null,
            "justify_content": null,
            "_view_module": "@jupyter-widgets/base",
            "overflow": null,
            "_model_module_version": "1.2.0",
            "_view_count": null,
            "flex_flow": null,
            "width": null,
            "min_width": null,
            "border": null,
            "align_items": null,
            "bottom": null,
            "_model_module": "@jupyter-widgets/base",
            "top": null,
            "grid_column": null,
            "overflow_y": null,
            "overflow_x": null,
            "grid_auto_flow": null,
            "grid_area": null,
            "grid_template_columns": null,
            "flex": null,
            "_model_name": "LayoutModel",
            "justify_items": null,
            "grid_row": null,
            "max_height": null,
            "align_content": null,
            "visibility": null,
            "align_self": null,
            "height": null,
            "min_height": null,
            "padding": null,
            "grid_auto_rows": null,
            "grid_gap": null,
            "max_width": null,
            "order": null,
            "_view_module_version": "1.2.0",
            "grid_template_areas": null,
            "object_position": null,
            "object_fit": null,
            "grid_auto_columns": null,
            "margin": null,
            "display": null,
            "left": null
          }
        },
        "b002d32c1bd34d72bb1a1bad1f2b6a88": {
          "model_module": "@jupyter-widgets/controls",
          "model_name": "IntProgressModel",
          "state": {
            "_view_name": "ProgressView",
            "style": "IPY_MODEL_53627e3437774da5bda6f813db387f5f",
            "_dom_classes": [],
            "description": "<pre>100.00%</pre>",
            "_model_name": "IntProgressModel",
            "bar_style": "success",
            "max": 250,
            "_view_module": "@jupyter-widgets/controls",
            "_model_module_version": "1.5.0",
            "value": 250,
            "_view_count": null,
            "_view_module_version": "1.5.0",
            "orientation": "horizontal",
            "min": 0,
            "description_tooltip": null,
            "_model_module": "@jupyter-widgets/controls",
            "layout": "IPY_MODEL_21c60b013ab247b9babc1c246c9eb657"
          }
        },
        "596b26a9136c497382493b0b1e705d78": {
          "model_module": "@jupyter-widgets/controls",
          "model_name": "HTMLModel",
          "state": {
            "_view_name": "HTMLView",
            "style": "IPY_MODEL_ce28ad338e4e421795dbe6215c0f36fa",
            "_dom_classes": [],
            "description": "",
            "_model_name": "HTMLModel",
            "placeholder": "​",
            "_view_module": "@jupyter-widgets/controls",
            "_model_module_version": "1.5.0",
            "value": "<pre> |      250 /      250 |: train for epoch 1               </pre>",
            "_view_count": null,
            "_view_module_version": "1.5.0",
            "description_tooltip": null,
            "_model_module": "@jupyter-widgets/controls",
            "layout": "IPY_MODEL_199f8cadbef64f1f8aefd38fbf8d0694"
          }
        },
        "53627e3437774da5bda6f813db387f5f": {
          "model_module": "@jupyter-widgets/controls",
          "model_name": "ProgressStyleModel",
          "state": {
            "_view_name": "StyleView",
            "_model_name": "ProgressStyleModel",
            "description_width": "",
            "_view_module": "@jupyter-widgets/base",
            "_model_module_version": "1.5.0",
            "_view_count": null,
            "_view_module_version": "1.2.0",
            "bar_color": null,
            "_model_module": "@jupyter-widgets/controls"
          }
        },
        "21c60b013ab247b9babc1c246c9eb657": {
          "model_module": "@jupyter-widgets/base",
          "model_name": "LayoutModel",
          "state": {
            "_view_name": "LayoutView",
            "grid_template_rows": null,
            "right": null,
            "justify_content": null,
            "_view_module": "@jupyter-widgets/base",
            "overflow": null,
            "_model_module_version": "1.2.0",
            "_view_count": null,
            "flex_flow": null,
            "width": null,
            "min_width": null,
            "border": null,
            "align_items": null,
            "bottom": null,
            "_model_module": "@jupyter-widgets/base",
            "top": null,
            "grid_column": null,
            "overflow_y": null,
            "overflow_x": null,
            "grid_auto_flow": null,
            "grid_area": null,
            "grid_template_columns": null,
            "flex": null,
            "_model_name": "LayoutModel",
            "justify_items": null,
            "grid_row": null,
            "max_height": null,
            "align_content": null,
            "visibility": null,
            "align_self": null,
            "height": null,
            "min_height": null,
            "padding": null,
            "grid_auto_rows": null,
            "grid_gap": null,
            "max_width": null,
            "order": null,
            "_view_module_version": "1.2.0",
            "grid_template_areas": null,
            "object_position": null,
            "object_fit": null,
            "grid_auto_columns": null,
            "margin": null,
            "display": null,
            "left": null
          }
        },
        "ce28ad338e4e421795dbe6215c0f36fa": {
          "model_module": "@jupyter-widgets/controls",
          "model_name": "DescriptionStyleModel",
          "state": {
            "_view_name": "StyleView",
            "_model_name": "DescriptionStyleModel",
            "description_width": "",
            "_view_module": "@jupyter-widgets/base",
            "_model_module_version": "1.5.0",
            "_view_count": null,
            "_view_module_version": "1.2.0",
            "_model_module": "@jupyter-widgets/controls"
          }
        },
        "199f8cadbef64f1f8aefd38fbf8d0694": {
          "model_module": "@jupyter-widgets/base",
          "model_name": "LayoutModel",
          "state": {
            "_view_name": "LayoutView",
            "grid_template_rows": null,
            "right": null,
            "justify_content": null,
            "_view_module": "@jupyter-widgets/base",
            "overflow": null,
            "_model_module_version": "1.2.0",
            "_view_count": null,
            "flex_flow": null,
            "width": null,
            "min_width": null,
            "border": null,
            "align_items": null,
            "bottom": null,
            "_model_module": "@jupyter-widgets/base",
            "top": null,
            "grid_column": null,
            "overflow_y": null,
            "overflow_x": null,
            "grid_auto_flow": null,
            "grid_area": null,
            "grid_template_columns": null,
            "flex": null,
            "_model_name": "LayoutModel",
            "justify_items": null,
            "grid_row": null,
            "max_height": null,
            "align_content": null,
            "visibility": null,
            "align_self": null,
            "height": null,
            "min_height": null,
            "padding": null,
            "grid_auto_rows": null,
            "grid_gap": null,
            "max_width": null,
            "order": null,
            "_view_module_version": "1.2.0",
            "grid_template_areas": null,
            "object_position": null,
            "object_fit": null,
            "grid_auto_columns": null,
            "margin": null,
            "display": null,
            "left": null
          }
        },
        "44f32e0bf2974abca7c830b82acde3ef": {
          "model_module": "@jupyter-widgets/controls",
          "model_name": "HBoxModel",
          "state": {
            "_view_name": "HBoxView",
            "_dom_classes": [],
            "_model_name": "HBoxModel",
            "_view_module": "@jupyter-widgets/controls",
            "_model_module_version": "1.5.0",
            "_view_count": null,
            "_view_module_version": "1.5.0",
            "box_style": "",
            "layout": "IPY_MODEL_7a2864e02e7344d3acadaad1b8d82ee7",
            "_model_module": "@jupyter-widgets/controls",
            "children": [
              "IPY_MODEL_7716925b12114716b4c7cdb58ffd27c1",
              "IPY_MODEL_ed3477972ab848798b773dff98bd81bc"
            ]
          }
        },
        "7a2864e02e7344d3acadaad1b8d82ee7": {
          "model_module": "@jupyter-widgets/base",
          "model_name": "LayoutModel",
          "state": {
            "_view_name": "LayoutView",
            "grid_template_rows": null,
            "right": null,
            "justify_content": null,
            "_view_module": "@jupyter-widgets/base",
            "overflow": null,
            "_model_module_version": "1.2.0",
            "_view_count": null,
            "flex_flow": null,
            "width": null,
            "min_width": null,
            "border": null,
            "align_items": null,
            "bottom": null,
            "_model_module": "@jupyter-widgets/base",
            "top": null,
            "grid_column": null,
            "overflow_y": null,
            "overflow_x": null,
            "grid_auto_flow": null,
            "grid_area": null,
            "grid_template_columns": null,
            "flex": null,
            "_model_name": "LayoutModel",
            "justify_items": null,
            "grid_row": null,
            "max_height": null,
            "align_content": null,
            "visibility": null,
            "align_self": null,
            "height": null,
            "min_height": null,
            "padding": null,
            "grid_auto_rows": null,
            "grid_gap": null,
            "max_width": null,
            "order": null,
            "_view_module_version": "1.2.0",
            "grid_template_areas": null,
            "object_position": null,
            "object_fit": null,
            "grid_auto_columns": null,
            "margin": null,
            "display": null,
            "left": null
          }
        },
        "7716925b12114716b4c7cdb58ffd27c1": {
          "model_module": "@jupyter-widgets/controls",
          "model_name": "IntProgressModel",
          "state": {
            "_view_name": "ProgressView",
            "style": "IPY_MODEL_cb265ad0b739466ab4195267c9683cd7",
            "_dom_classes": [],
            "description": "<pre> 96.40%</pre>",
            "_model_name": "IntProgressModel",
            "bar_style": "",
            "max": 250,
            "_view_module": "@jupyter-widgets/controls",
            "_model_module_version": "1.5.0",
            "value": 242,
            "_view_count": null,
            "_view_module_version": "1.5.0",
            "orientation": "horizontal",
            "min": 0,
            "description_tooltip": null,
            "_model_module": "@jupyter-widgets/controls",
            "layout": "IPY_MODEL_2006ebae27b34efd8f5d4533115d572f"
          }
        },
        "ed3477972ab848798b773dff98bd81bc": {
          "model_module": "@jupyter-widgets/controls",
          "model_name": "HTMLModel",
          "state": {
            "_view_name": "HTMLView",
            "style": "IPY_MODEL_8273d8f1b5c949c6a012311689b9fe58",
            "_dom_classes": [],
            "description": "",
            "_model_name": "HTMLModel",
            "placeholder": "​",
            "_view_module": "@jupyter-widgets/controls",
            "_model_module_version": "1.5.0",
            "value": "<pre> |      241 /      250 |: val for epoch 1                 </pre>",
            "_view_count": null,
            "_view_module_version": "1.5.0",
            "description_tooltip": null,
            "_model_module": "@jupyter-widgets/controls",
            "layout": "IPY_MODEL_e00c8264b9bf419f881da1080fe559e6"
          }
        },
        "cb265ad0b739466ab4195267c9683cd7": {
          "model_module": "@jupyter-widgets/controls",
          "model_name": "ProgressStyleModel",
          "state": {
            "_view_name": "StyleView",
            "_model_name": "ProgressStyleModel",
            "description_width": "",
            "_view_module": "@jupyter-widgets/base",
            "_model_module_version": "1.5.0",
            "_view_count": null,
            "_view_module_version": "1.2.0",
            "bar_color": null,
            "_model_module": "@jupyter-widgets/controls"
          }
        },
        "2006ebae27b34efd8f5d4533115d572f": {
          "model_module": "@jupyter-widgets/base",
          "model_name": "LayoutModel",
          "state": {
            "_view_name": "LayoutView",
            "grid_template_rows": null,
            "right": null,
            "justify_content": null,
            "_view_module": "@jupyter-widgets/base",
            "overflow": null,
            "_model_module_version": "1.2.0",
            "_view_count": null,
            "flex_flow": null,
            "width": null,
            "min_width": null,
            "border": null,
            "align_items": null,
            "bottom": null,
            "_model_module": "@jupyter-widgets/base",
            "top": null,
            "grid_column": null,
            "overflow_y": null,
            "overflow_x": null,
            "grid_auto_flow": null,
            "grid_area": null,
            "grid_template_columns": null,
            "flex": null,
            "_model_name": "LayoutModel",
            "justify_items": null,
            "grid_row": null,
            "max_height": null,
            "align_content": null,
            "visibility": null,
            "align_self": null,
            "height": null,
            "min_height": null,
            "padding": null,
            "grid_auto_rows": null,
            "grid_gap": null,
            "max_width": null,
            "order": null,
            "_view_module_version": "1.2.0",
            "grid_template_areas": null,
            "object_position": null,
            "object_fit": null,
            "grid_auto_columns": null,
            "margin": null,
            "display": null,
            "left": null
          }
        },
        "8273d8f1b5c949c6a012311689b9fe58": {
          "model_module": "@jupyter-widgets/controls",
          "model_name": "DescriptionStyleModel",
          "state": {
            "_view_name": "StyleView",
            "_model_name": "DescriptionStyleModel",
            "description_width": "",
            "_view_module": "@jupyter-widgets/base",
            "_model_module_version": "1.5.0",
            "_view_count": null,
            "_view_module_version": "1.2.0",
            "_model_module": "@jupyter-widgets/controls"
          }
        },
        "e00c8264b9bf419f881da1080fe559e6": {
          "model_module": "@jupyter-widgets/base",
          "model_name": "LayoutModel",
          "state": {
            "_view_name": "LayoutView",
            "grid_template_rows": null,
            "right": null,
            "justify_content": null,
            "_view_module": "@jupyter-widgets/base",
            "overflow": null,
            "_model_module_version": "1.2.0",
            "_view_count": null,
            "flex_flow": null,
            "width": null,
            "min_width": null,
            "border": null,
            "align_items": null,
            "bottom": null,
            "_model_module": "@jupyter-widgets/base",
            "top": null,
            "grid_column": null,
            "overflow_y": null,
            "overflow_x": null,
            "grid_auto_flow": null,
            "grid_area": null,
            "grid_template_columns": null,
            "flex": null,
            "_model_name": "LayoutModel",
            "justify_items": null,
            "grid_row": null,
            "max_height": null,
            "align_content": null,
            "visibility": null,
            "align_self": null,
            "height": null,
            "min_height": null,
            "padding": null,
            "grid_auto_rows": null,
            "grid_gap": null,
            "max_width": null,
            "order": null,
            "_view_module_version": "1.2.0",
            "grid_template_areas": null,
            "object_position": null,
            "object_fit": null,
            "grid_auto_columns": null,
            "margin": null,
            "display": null,
            "left": null
          }
        }
      }
    }
  },
  "cells": [
    {
      "cell_type": "markdown",
      "metadata": {
        "id": "view-in-github",
        "colab_type": "text"
      },
      "source": [
        "<a href=\"https://colab.research.google.com/github/arsalan993/AI-based-Image-search-/blob/master/Training_Image_search.ipynb\" target=\"_parent\"><img src=\"https://colab.research.google.com/assets/colab-badge.svg\" alt=\"Open In Colab\"/></a>"
      ]
    },
    {
      "cell_type": "markdown",
      "metadata": {
        "id": "y4PC4HB_jw1M",
        "colab_type": "text"
      },
      "source": [
        "# **Training Module**\n",
        "\n",
        "---\n",
        "\n"
      ]
    },
    {
      "cell_type": "markdown",
      "metadata": {
        "id": "_EFfuzRZhHbd",
        "colab_type": "text"
      },
      "source": [
        "## Load the Drive helper and mount\n",
        "\n"
      ]
    },
    {
      "cell_type": "code",
      "metadata": {
        "id": "1C7DypCeDY8p",
        "colab_type": "code",
        "colab": {
          "base_uri": "https://localhost:8080/",
          "height": 139
        },
        "outputId": "593224cf-3b23-48fe-e1cc-29e087adb309"
      },
      "source": [
        "from google.colab import drive\n",
        "from tqdm import tqdm\n",
        "\n",
        "drive.mount('/content/drive',force_remount=True)\n",
        "%cd drive/My\\ Drive/Image_recommender_via_desciption"
      ],
      "execution_count": 1,
      "outputs": [
        {
          "output_type": "stream",
          "text": [
            "Go to this URL in a browser: https://accounts.google.com/o/oauth2/auth?client_id=947318989803-6bn6qk8qdgf4n4g3pfee6491hc0brc4i.apps.googleusercontent.com&redirect_uri=urn%3aietf%3awg%3aoauth%3a2.0%3aoob&response_type=code&scope=email%20https%3a%2f%2fwww.googleapis.com%2fauth%2fdocs.test%20https%3a%2f%2fwww.googleapis.com%2fauth%2fdrive%20https%3a%2f%2fwww.googleapis.com%2fauth%2fdrive.photos.readonly%20https%3a%2f%2fwww.googleapis.com%2fauth%2fpeopleapi.readonly\n",
            "\n",
            "Enter your authorization code:\n",
            "··········\n",
            "Mounted at /content/drive\n",
            "/content/drive/My Drive/Image_recommender_via_desciption\n"
          ],
          "name": "stdout"
        }
      ]
    },
    {
      "cell_type": "code",
      "metadata": {
        "id": "mPGB5rAtDwFB",
        "colab_type": "code",
        "colab": {
          "base_uri": "https://localhost:8080/",
          "height": 51
        },
        "outputId": "8a5493cb-632a-4230-96a0-f5c621e0d543"
      },
      "source": [
        "!ls "
      ],
      "execution_count": 2,
      "outputs": [
        {
          "output_type": "stream",
          "text": [
            "bert_lang_model  tiny-imagenet-200\tTraining.ipynb\n",
            "model\t\t tiny-imagenet-200.zip\n"
          ],
          "name": "stdout"
        }
      ]
    },
    {
      "cell_type": "markdown",
      "metadata": {
        "id": "3qpHTXiYhgnp",
        "colab_type": "text"
      },
      "source": [
        "## Download and extracting tiny imagenet dataset\n",
        "###### Dataset comprise of 200 classes, train folder consist of 500 images for each class while validaion folder comprises of 10000 images, 50 for each class. While test folder contains unlabbeled images."
      ]
    },
    {
      "cell_type": "code",
      "metadata": {
        "id": "io5GjaLYA1-J",
        "colab_type": "code",
        "colab": {}
      },
      "source": [
        "# !wget http://cs231n.stanford.edu/tiny-imagenet-200.zip\n",
        "# !unzip tiny-imagenet-200.zip'\n",
        "# import zipfile\n",
        "# zip_ref = zipfile.ZipFile(\"tiny-imagenet-200.zip\", 'r')\n",
        "# zip_ref.extractall(\"\")\n",
        "# zip_ref.close()"
      ],
      "execution_count": 3,
      "outputs": []
    },
    {
      "cell_type": "code",
      "metadata": {
        "id": "e17qeh1aDUPV",
        "colab_type": "code",
        "colab": {
          "base_uri": "https://localhost:8080/",
          "height": 34
        },
        "outputId": "d47326b6-1ae1-4600-ebd4-aff4b58721f5"
      },
      "source": [
        "!ls tiny-imagenet-200"
      ],
      "execution_count": 4,
      "outputs": [
        {
          "output_type": "stream",
          "text": [
            "test  train  val  wnids.txt  words.txt\n"
          ],
          "name": "stdout"
        }
      ]
    },
    {
      "cell_type": "code",
      "metadata": {
        "id": "FalqVUVkTDr7",
        "colab_type": "code",
        "colab": {}
      },
      "source": [
        "import pandas as pd\n",
        "import os\n",
        "import numpy as np"
      ],
      "execution_count": 5,
      "outputs": []
    },
    {
      "cell_type": "markdown",
      "metadata": {
        "id": "24FGZjpUiVMO",
        "colab_type": "text"
      },
      "source": [
        "#### ***words.txt*** file consist of keys and respective labels but since it belongs to complete imagenet dataset therefore we filter keys for which we have data in tiny-imagenet*"
      ]
    },
    {
      "cell_type": "code",
      "metadata": {
        "id": "Zr0QpTcVTWH3",
        "colab_type": "code",
        "colab": {
          "base_uri": "https://localhost:8080/",
          "height": 34
        },
        "outputId": "459dbffb-6db2-4804-8139-0048bcaf633a"
      },
      "source": [
        "categories = pd.read_csv(\"tiny-imagenet-200/words.txt\",sep='\\t',names=['key','cat'], header=None)\n",
        "from glob import glob\n",
        "valid_cat_index = [os.path.basename(os.path.normpath(i)) for i in glob(\"tiny-imagenet-200/train/*/\")]\n",
        "categories = categories[categories['key'].isin(valid_cat_index)]\n",
        "categories['key'].nunique()"
      ],
      "execution_count": 6,
      "outputs": [
        {
          "output_type": "execute_result",
          "data": {
            "text/plain": [
              "200"
            ]
          },
          "metadata": {
            "tags": []
          },
          "execution_count": 6
        }
      ]
    },
    {
      "cell_type": "markdown",
      "metadata": {
        "id": "2ju0_ZCIjTrL",
        "colab_type": "text"
      },
      "source": [
        "### We are going to install sentence transformer library. Sentence Transformer is based on BERT and it allows us to extract sentence representation of given sentence\n",
        "### reference https://github.com/UKPLab/sentence-transformers"
      ]
    },
    {
      "cell_type": "code",
      "metadata": {
        "id": "j-VX8HjWcCek",
        "colab_type": "code",
        "colab": {
          "base_uri": "https://localhost:8080/",
          "height": 802
        },
        "outputId": "b23367e4-692c-43da-a669-be82e6702edc"
      },
      "source": [
        "!pip install -U sentence-transformers\n",
        "from sentence_transformers import SentenceTransformer"
      ],
      "execution_count": 7,
      "outputs": [
        {
          "output_type": "stream",
          "text": [
            "Collecting sentence-transformers\n",
            "\u001b[?25l  Downloading https://files.pythonhosted.org/packages/ee/71/acfb3f1016f83d90590130dc2ee0d8cd36b005aa7afa45b465837b711070/sentence-transformers-0.3.3.tar.gz (65kB)\n",
            "\u001b[K     |████████████████████████████████| 71kB 4.0MB/s \n",
            "\u001b[?25hCollecting transformers>=3.0.2\n",
            "\u001b[?25l  Downloading https://files.pythonhosted.org/packages/27/3c/91ed8f5c4e7ef3227b4119200fc0ed4b4fd965b1f0172021c25701087825/transformers-3.0.2-py3-none-any.whl (769kB)\n",
            "\u001b[K     |████████████████████████████████| 778kB 12.8MB/s \n",
            "\u001b[?25hRequirement already satisfied, skipping upgrade: tqdm in /usr/local/lib/python3.6/dist-packages (from sentence-transformers) (4.41.1)\n",
            "Requirement already satisfied, skipping upgrade: torch>=1.2.0 in /usr/local/lib/python3.6/dist-packages (from sentence-transformers) (1.6.0+cu101)\n",
            "Requirement already satisfied, skipping upgrade: numpy in /usr/local/lib/python3.6/dist-packages (from sentence-transformers) (1.18.5)\n",
            "Requirement already satisfied, skipping upgrade: scikit-learn in /usr/local/lib/python3.6/dist-packages (from sentence-transformers) (0.22.2.post1)\n",
            "Requirement already satisfied, skipping upgrade: scipy in /usr/local/lib/python3.6/dist-packages (from sentence-transformers) (1.4.1)\n",
            "Requirement already satisfied, skipping upgrade: nltk in /usr/local/lib/python3.6/dist-packages (from sentence-transformers) (3.2.5)\n",
            "Requirement already satisfied, skipping upgrade: dataclasses; python_version < \"3.7\" in /usr/local/lib/python3.6/dist-packages (from transformers>=3.0.2->sentence-transformers) (0.7)\n",
            "Requirement already satisfied, skipping upgrade: requests in /usr/local/lib/python3.6/dist-packages (from transformers>=3.0.2->sentence-transformers) (2.23.0)\n",
            "Collecting sentencepiece!=0.1.92\n",
            "\u001b[?25l  Downloading https://files.pythonhosted.org/packages/d4/a4/d0a884c4300004a78cca907a6ff9a5e9fe4f090f5d95ab341c53d28cbc58/sentencepiece-0.1.91-cp36-cp36m-manylinux1_x86_64.whl (1.1MB)\n",
            "\u001b[K     |████████████████████████████████| 1.1MB 12.7MB/s \n",
            "\u001b[?25hCollecting tokenizers==0.8.1.rc1\n",
            "\u001b[?25l  Downloading https://files.pythonhosted.org/packages/40/d0/30d5f8d221a0ed981a186c8eb986ce1c94e3a6e87f994eae9f4aa5250217/tokenizers-0.8.1rc1-cp36-cp36m-manylinux1_x86_64.whl (3.0MB)\n",
            "\u001b[K     |████████████████████████████████| 3.0MB 43.6MB/s \n",
            "\u001b[?25hRequirement already satisfied, skipping upgrade: regex!=2019.12.17 in /usr/local/lib/python3.6/dist-packages (from transformers>=3.0.2->sentence-transformers) (2019.12.20)\n",
            "Requirement already satisfied, skipping upgrade: filelock in /usr/local/lib/python3.6/dist-packages (from transformers>=3.0.2->sentence-transformers) (3.0.12)\n",
            "Requirement already satisfied, skipping upgrade: packaging in /usr/local/lib/python3.6/dist-packages (from transformers>=3.0.2->sentence-transformers) (20.4)\n",
            "Collecting sacremoses\n",
            "\u001b[?25l  Downloading https://files.pythonhosted.org/packages/7d/34/09d19aff26edcc8eb2a01bed8e98f13a1537005d31e95233fd48216eed10/sacremoses-0.0.43.tar.gz (883kB)\n",
            "\u001b[K     |████████████████████████████████| 890kB 42.5MB/s \n",
            "\u001b[?25hRequirement already satisfied, skipping upgrade: future in /usr/local/lib/python3.6/dist-packages (from torch>=1.2.0->sentence-transformers) (0.16.0)\n",
            "Requirement already satisfied, skipping upgrade: joblib>=0.11 in /usr/local/lib/python3.6/dist-packages (from scikit-learn->sentence-transformers) (0.16.0)\n",
            "Requirement already satisfied, skipping upgrade: six in /usr/local/lib/python3.6/dist-packages (from nltk->sentence-transformers) (1.15.0)\n",
            "Requirement already satisfied, skipping upgrade: certifi>=2017.4.17 in /usr/local/lib/python3.6/dist-packages (from requests->transformers>=3.0.2->sentence-transformers) (2020.6.20)\n",
            "Requirement already satisfied, skipping upgrade: urllib3!=1.25.0,!=1.25.1,<1.26,>=1.21.1 in /usr/local/lib/python3.6/dist-packages (from requests->transformers>=3.0.2->sentence-transformers) (1.24.3)\n",
            "Requirement already satisfied, skipping upgrade: idna<3,>=2.5 in /usr/local/lib/python3.6/dist-packages (from requests->transformers>=3.0.2->sentence-transformers) (2.10)\n",
            "Requirement already satisfied, skipping upgrade: chardet<4,>=3.0.2 in /usr/local/lib/python3.6/dist-packages (from requests->transformers>=3.0.2->sentence-transformers) (3.0.4)\n",
            "Requirement already satisfied, skipping upgrade: pyparsing>=2.0.2 in /usr/local/lib/python3.6/dist-packages (from packaging->transformers>=3.0.2->sentence-transformers) (2.4.7)\n",
            "Requirement already satisfied, skipping upgrade: click in /usr/local/lib/python3.6/dist-packages (from sacremoses->transformers>=3.0.2->sentence-transformers) (7.1.2)\n",
            "Building wheels for collected packages: sentence-transformers, sacremoses\n",
            "  Building wheel for sentence-transformers (setup.py) ... \u001b[?25l\u001b[?25hdone\n",
            "  Created wheel for sentence-transformers: filename=sentence_transformers-0.3.3-cp36-none-any.whl size=97299 sha256=5ae82ce828e3abbb299b90039b3c2b591336716ff27d9c7673a2027a104472f6\n",
            "  Stored in directory: /root/.cache/pip/wheels/75/d6/0a/cab163b21d0597cc1580bc344487b11ad405e0d1d314725f2b\n",
            "  Building wheel for sacremoses (setup.py) ... \u001b[?25l\u001b[?25hdone\n",
            "  Created wheel for sacremoses: filename=sacremoses-0.0.43-cp36-none-any.whl size=893260 sha256=7c47a5a27a79dd35ecfb42297d78a3760b5667bfb8a866fa9297572423fb6019\n",
            "  Stored in directory: /root/.cache/pip/wheels/29/3c/fd/7ce5c3f0666dab31a50123635e6fb5e19ceb42ce38d4e58f45\n",
            "Successfully built sentence-transformers sacremoses\n",
            "Installing collected packages: sentencepiece, tokenizers, sacremoses, transformers, sentence-transformers\n",
            "Successfully installed sacremoses-0.0.43 sentence-transformers-0.3.3 sentencepiece-0.1.91 tokenizers-0.8.1rc1 transformers-3.0.2\n"
          ],
          "name": "stdout"
        }
      ]
    },
    {
      "cell_type": "markdown",
      "metadata": {
        "id": "EoAh9AKIkbYd",
        "colab_type": "text"
      },
      "source": [
        "uncomment below code to download required pretrained language model and the save the extracted model files in required directory"
      ]
    },
    {
      "cell_type": "code",
      "metadata": {
        "id": "rTkZLM5yktsd",
        "colab_type": "code",
        "colab": {}
      },
      "source": [
        "# model = SentenceTransformer('bert-large-nli-mean-tokens')\n",
        "# !cp -r /root/.cache/torch/sentence_transformers bert_lang_model"
      ],
      "execution_count": 8,
      "outputs": []
    },
    {
      "cell_type": "code",
      "metadata": {
        "id": "yn2T-sA70SkQ",
        "colab_type": "code",
        "colab": {
          "base_uri": "https://localhost:8080/",
          "height": 34
        },
        "outputId": "13337b50-a0b4-4dcd-ce32-bc5cef8eb160"
      },
      "source": [
        "!ls bert_lang_model/sentence_transformers"
      ],
      "execution_count": 9,
      "outputs": [
        {
          "output_type": "stream",
          "text": [
            "public.ukp.informatik.tu-darmstadt.de_reimers_sentence-transformers_v0.2_bert-large-nli-mean-tokens.zip\n"
          ],
          "name": "stdout"
        }
      ]
    },
    {
      "cell_type": "code",
      "metadata": {
        "id": "dCyeAjnUngC-",
        "colab_type": "code",
        "colab": {}
      },
      "source": [
        "lang_model = SentenceTransformer('bert_lang_model/sentence_transformers/public.ukp.informatik.tu-darmstadt.de_reimers_sentence-transformers_v0.2_bert-large-nli-mean-tokens.zip/')"
      ],
      "execution_count": 10,
      "outputs": []
    },
    {
      "cell_type": "markdown",
      "metadata": {
        "id": "c-YV0A_gky9Q",
        "colab_type": "text"
      },
      "source": [
        "In some cases were are given multiple labels which are basically represent same meaning for the object or you can say synonym of exact meanining. \n",
        "We extract embeddings of those words and take mean. Below function serves that purpose"
      ]
    },
    {
      "cell_type": "code",
      "metadata": {
        "id": "rAyCyMbProuY",
        "colab_type": "code",
        "colab": {}
      },
      "source": [
        "def get_embeddings(cats):\n",
        "  global lang_model\n",
        "  cats = cats.split(\",\")\n",
        "  cats = lang_model.encode(cats)\n",
        "  if len(cats) > 0:\n",
        "    return np.mean(np.array(cats), axis=0)\n",
        "  else:\n",
        "    return np.array(cats)\n"
      ],
      "execution_count": 11,
      "outputs": []
    },
    {
      "cell_type": "code",
      "metadata": {
        "id": "VzoEBYKrwtoq",
        "colab_type": "code",
        "colab": {
          "base_uri": "https://localhost:8080/",
          "height": 142
        },
        "outputId": "8c80fdab-72b9-4214-a46c-ba0711ff4dff"
      },
      "source": [
        "categories['cat_embed'] = categories['cat'].apply(get_embeddings)\n",
        "categories.head(3)"
      ],
      "execution_count": 12,
      "outputs": [
        {
          "output_type": "execute_result",
          "data": {
            "text/html": [
              "<div>\n",
              "<style scoped>\n",
              "    .dataframe tbody tr th:only-of-type {\n",
              "        vertical-align: middle;\n",
              "    }\n",
              "\n",
              "    .dataframe tbody tr th {\n",
              "        vertical-align: top;\n",
              "    }\n",
              "\n",
              "    .dataframe thead th {\n",
              "        text-align: right;\n",
              "    }\n",
              "</style>\n",
              "<table border=\"1\" class=\"dataframe\">\n",
              "  <thead>\n",
              "    <tr style=\"text-align: right;\">\n",
              "      <th></th>\n",
              "      <th>key</th>\n",
              "      <th>cat</th>\n",
              "      <th>cat_embed</th>\n",
              "    </tr>\n",
              "  </thead>\n",
              "  <tbody>\n",
              "    <tr>\n",
              "      <th>7335</th>\n",
              "      <td>n01443537</td>\n",
              "      <td>goldfish, Carassius auratus</td>\n",
              "      <td>[-0.097731255, -0.057093233, 0.41478953, -0.19...</td>\n",
              "    </tr>\n",
              "    <tr>\n",
              "      <th>8328</th>\n",
              "      <td>n01629819</td>\n",
              "      <td>European fire salamander, Salamandra salamandra</td>\n",
              "      <td>[-0.66994673, -0.09468903, 0.38685623, -0.3243...</td>\n",
              "    </tr>\n",
              "    <tr>\n",
              "      <th>8394</th>\n",
              "      <td>n01641577</td>\n",
              "      <td>bullfrog, Rana catesbeiana</td>\n",
              "      <td>[-0.35039034, 0.3813054, 0.77611536, 0.5907758...</td>\n",
              "    </tr>\n",
              "  </tbody>\n",
              "</table>\n",
              "</div>"
            ],
            "text/plain": [
              "            key  ...                                          cat_embed\n",
              "7335  n01443537  ...  [-0.097731255, -0.057093233, 0.41478953, -0.19...\n",
              "8328  n01629819  ...  [-0.66994673, -0.09468903, 0.38685623, -0.3243...\n",
              "8394  n01641577  ...  [-0.35039034, 0.3813054, 0.77611536, 0.5907758...\n",
              "\n",
              "[3 rows x 3 columns]"
            ]
          },
          "metadata": {
            "tags": []
          },
          "execution_count": 12
        }
      ]
    },
    {
      "cell_type": "markdown",
      "metadata": {
        "id": "qAGvhMphSjwS",
        "colab_type": "text"
      },
      "source": [
        "## Getting train data path"
      ]
    },
    {
      "cell_type": "code",
      "metadata": {
        "id": "ZMBy56Ts3Drt",
        "colab_type": "code",
        "colab": {
          "base_uri": "https://localhost:8080/",
          "height": 34
        },
        "outputId": "342c30ee-2a7d-47a6-84f8-d7f38812abef"
      },
      "source": [
        "train_images_path = []\n",
        "for i in tqdm(glob('tiny-imagenet-200/train/**')):\n",
        "  train_images_path = train_images_path + glob(i+'/images/*.JPEG')"
      ],
      "execution_count": 13,
      "outputs": [
        {
          "output_type": "stream",
          "text": [
            "100%|██████████| 200/200 [19:11<00:00,  5.76s/it]\n"
          ],
          "name": "stderr"
        }
      ]
    },
    {
      "cell_type": "code",
      "metadata": {
        "id": "6swKMO3K4IgP",
        "colab_type": "code",
        "colab": {}
      },
      "source": [
        "train_images_path = [(i.split(\"/\")[2],i) for i in train_images_path]\n",
        "train_images_path = pd.DataFrame(train_images_path,columns=['key','img_path'])\n",
        "train_images_path = train_images_path.merge(categories, on='key', how='left')"
      ],
      "execution_count": 14,
      "outputs": []
    },
    {
      "cell_type": "code",
      "metadata": {
        "id": "_56WeyRnSd6u",
        "colab_type": "code",
        "colab": {
          "base_uri": "https://localhost:8080/",
          "height": 111
        },
        "outputId": "a4c5e3da-bdd9-46b2-c41e-f50fe03749d3"
      },
      "source": [
        "train_images_path.head(2)"
      ],
      "execution_count": 15,
      "outputs": [
        {
          "output_type": "execute_result",
          "data": {
            "text/html": [
              "<div>\n",
              "<style scoped>\n",
              "    .dataframe tbody tr th:only-of-type {\n",
              "        vertical-align: middle;\n",
              "    }\n",
              "\n",
              "    .dataframe tbody tr th {\n",
              "        vertical-align: top;\n",
              "    }\n",
              "\n",
              "    .dataframe thead th {\n",
              "        text-align: right;\n",
              "    }\n",
              "</style>\n",
              "<table border=\"1\" class=\"dataframe\">\n",
              "  <thead>\n",
              "    <tr style=\"text-align: right;\">\n",
              "      <th></th>\n",
              "      <th>key</th>\n",
              "      <th>img_path</th>\n",
              "      <th>cat</th>\n",
              "      <th>cat_embed</th>\n",
              "    </tr>\n",
              "  </thead>\n",
              "  <tbody>\n",
              "    <tr>\n",
              "      <th>0</th>\n",
              "      <td>n03584254</td>\n",
              "      <td>tiny-imagenet-200/train/n03584254/images/n0358...</td>\n",
              "      <td>iPod</td>\n",
              "      <td>[-0.73246765, -0.7871005, 0.25356412, 0.339683...</td>\n",
              "    </tr>\n",
              "    <tr>\n",
              "      <th>1</th>\n",
              "      <td>n03584254</td>\n",
              "      <td>tiny-imagenet-200/train/n03584254/images/n0358...</td>\n",
              "      <td>iPod</td>\n",
              "      <td>[-0.73246765, -0.7871005, 0.25356412, 0.339683...</td>\n",
              "    </tr>\n",
              "  </tbody>\n",
              "</table>\n",
              "</div>"
            ],
            "text/plain": [
              "         key  ...                                          cat_embed\n",
              "0  n03584254  ...  [-0.73246765, -0.7871005, 0.25356412, 0.339683...\n",
              "1  n03584254  ...  [-0.73246765, -0.7871005, 0.25356412, 0.339683...\n",
              "\n",
              "[2 rows x 4 columns]"
            ]
          },
          "metadata": {
            "tags": []
          },
          "execution_count": 15
        }
      ]
    },
    {
      "cell_type": "markdown",
      "metadata": {
        "id": "RxkupaNgStL3",
        "colab_type": "text"
      },
      "source": [
        "## Getting val data path"
      ]
    },
    {
      "cell_type": "code",
      "metadata": {
        "id": "D8HqVTo4Shd6",
        "colab_type": "code",
        "colab": {}
      },
      "source": [
        "val_images_path = pd.read_csv(\"tiny-imagenet-200/val/val_annotations.txt\",sep='\\t',usecols=[0,1],names=['img_path','key'], header=None)\n",
        "def add_val_path(path):\n",
        "  return \"tiny-imagenet-200/val/images/\" + path\n",
        "val_images_path['img_path'] = val_images_path['img_path'].apply(add_val_path)\n",
        "val_images_path = val_images_path.merge(categories, on='key', how='left')"
      ],
      "execution_count": 16,
      "outputs": []
    },
    {
      "cell_type": "code",
      "metadata": {
        "id": "d4vOK67OY5Wc",
        "colab_type": "code",
        "colab": {
          "base_uri": "https://localhost:8080/",
          "height": 111
        },
        "outputId": "9366d76e-d31f-4994-f84a-f9f624afe3ed"
      },
      "source": [
        "val_images_path.head(2)"
      ],
      "execution_count": 17,
      "outputs": [
        {
          "output_type": "execute_result",
          "data": {
            "text/html": [
              "<div>\n",
              "<style scoped>\n",
              "    .dataframe tbody tr th:only-of-type {\n",
              "        vertical-align: middle;\n",
              "    }\n",
              "\n",
              "    .dataframe tbody tr th {\n",
              "        vertical-align: top;\n",
              "    }\n",
              "\n",
              "    .dataframe thead th {\n",
              "        text-align: right;\n",
              "    }\n",
              "</style>\n",
              "<table border=\"1\" class=\"dataframe\">\n",
              "  <thead>\n",
              "    <tr style=\"text-align: right;\">\n",
              "      <th></th>\n",
              "      <th>img_path</th>\n",
              "      <th>key</th>\n",
              "      <th>cat</th>\n",
              "      <th>cat_embed</th>\n",
              "    </tr>\n",
              "  </thead>\n",
              "  <tbody>\n",
              "    <tr>\n",
              "      <th>0</th>\n",
              "      <td>tiny-imagenet-200/val/images/val_0.JPEG</td>\n",
              "      <td>n03444034</td>\n",
              "      <td>go-kart</td>\n",
              "      <td>[-0.51237804, 0.03610748, -0.04462959, 0.50456...</td>\n",
              "    </tr>\n",
              "    <tr>\n",
              "      <th>1</th>\n",
              "      <td>tiny-imagenet-200/val/images/val_1.JPEG</td>\n",
              "      <td>n04067472</td>\n",
              "      <td>reel</td>\n",
              "      <td>[-0.33439007, 0.42378613, 0.50110006, 0.005709...</td>\n",
              "    </tr>\n",
              "  </tbody>\n",
              "</table>\n",
              "</div>"
            ],
            "text/plain": [
              "                                  img_path  ...                                          cat_embed\n",
              "0  tiny-imagenet-200/val/images/val_0.JPEG  ...  [-0.51237804, 0.03610748, -0.04462959, 0.50456...\n",
              "1  tiny-imagenet-200/val/images/val_1.JPEG  ...  [-0.33439007, 0.42378613, 0.50110006, 0.005709...\n",
              "\n",
              "[2 rows x 4 columns]"
            ]
          },
          "metadata": {
            "tags": []
          },
          "execution_count": 17
        }
      ]
    },
    {
      "cell_type": "markdown",
      "metadata": {
        "id": "qxiNdJp2l5WL",
        "colab_type": "text"
      },
      "source": [
        "Since Dataset is quite large on Google colab using GPU it takes around 10 hours to complete one epoch therefore set the below subset flag to true to get the small stratified sample for experimenting with your own custom model"
      ]
    },
    {
      "cell_type": "code",
      "metadata": {
        "id": "FiDR8JGAnInL",
        "colab_type": "code",
        "colab": {}
      },
      "source": [
        "subset = False\n",
        "if subset == True:\n",
        "  val_images_path = val_images_path.groupby(['key']).head(1).reset_index(drop=True)\n",
        "  train_images_path = train_images_path.groupby(['key']).head(3).reset_index(drop=True)"
      ],
      "execution_count": 18,
      "outputs": []
    },
    {
      "cell_type": "markdown",
      "metadata": {
        "id": "8Cj-9UazmaJW",
        "colab_type": "text"
      },
      "source": [
        "**Importing PyTorch**"
      ]
    },
    {
      "cell_type": "code",
      "metadata": {
        "id": "ngC14wFuoDPS",
        "colab_type": "code",
        "colab": {}
      },
      "source": [
        "from __future__ import print_function, division\n",
        "from natsort import natsorted\n",
        "import torch\n",
        "import torch.nn as nn\n",
        "import torch.optim as optim\n",
        "from torch.optim import lr_scheduler\n",
        "import torchvision\n",
        "from torchvision import datasets, models, transforms\n",
        "import matplotlib.pyplot as plt\n",
        "import numpy as np\n",
        "import time\n",
        "import os\n",
        "import copy\n",
        "from torch.utils.data import Dataset\n",
        "from PIL import Image\n",
        "\n",
        "%matplotlib inline\n",
        "import time\n",
        "import pylab as pl\n",
        "from IPython import display"
      ],
      "execution_count": 19,
      "outputs": []
    },
    {
      "cell_type": "code",
      "metadata": {
        "id": "DgaoAVOwR6Te",
        "colab_type": "code",
        "colab": {
          "base_uri": "https://localhost:8080/",
          "height": 85
        },
        "outputId": "1e0c0559-79f1-46c4-dbf4-8a39097fa4ce"
      },
      "source": [
        "!pip install atpbar\n",
        "from atpbar import atpbar\n"
      ],
      "execution_count": 35,
      "outputs": [
        {
          "output_type": "stream",
          "text": [
            "Collecting atpbar\n",
            "  Downloading https://files.pythonhosted.org/packages/5b/da/b206108b5bd7ad632bb2f24d6e23975d23369925dba93bac6655e8297cbf/atpbar-1.1.3-py3-none-any.whl\n",
            "Installing collected packages: atpbar\n",
            "Successfully installed atpbar-1.1.3\n"
          ],
          "name": "stdout"
        }
      ]
    },
    {
      "cell_type": "code",
      "metadata": {
        "id": "QwAE4LYl4Pbj",
        "colab_type": "code",
        "colab": {}
      },
      "source": [
        "device = torch.device(\"cuda\" if torch.cuda.is_available() else \"cpu\")"
      ],
      "execution_count": 20,
      "outputs": []
    },
    {
      "cell_type": "markdown",
      "metadata": {
        "id": "Gec2goyEmiGK",
        "colab_type": "text"
      },
      "source": [
        "### Since currently we are using pretrained ResNet inorder to perform transfer learning therefore we set the transformation parameters in way you see below,  you can change it as per your model requirements "
      ]
    },
    {
      "cell_type": "code",
      "metadata": {
        "id": "YC5VDUs5nrgS",
        "colab_type": "code",
        "colab": {}
      },
      "source": [
        "mean_nums = [0.485, 0.456, 0.406]\n",
        "std_nums = [0.229, 0.224, 0.225]\n",
        "\n",
        "chosen_transforms = {'train': transforms.Compose([\n",
        "        transforms.ToTensor(),\n",
        "        transforms.Normalize([0.485, 0.456, 0.406], [0.229, 0.224, 0.225])\n",
        "]), 'val': transforms.Compose([\n",
        "        transforms.ToTensor(),\n",
        "        transforms.Normalize([0.485, 0.456, 0.406], [0.229, 0.224, 0.225])\n",
        "]),\n",
        "}"
      ],
      "execution_count": 53,
      "outputs": []
    },
    {
      "cell_type": "markdown",
      "metadata": {
        "id": "KkzegoxQnBA5",
        "colab_type": "text"
      },
      "source": [
        "Since data in dataset is not place in a standard format as required by default Dataset class in pytorch library therefore we created out own."
      ]
    },
    {
      "cell_type": "code",
      "metadata": {
        "id": "n2fmI9BkxcPo",
        "colab_type": "code",
        "colab": {}
      },
      "source": [
        "class CustomDataSet(Dataset):\n",
        "    def __init__(self, main_dir, transform):\n",
        "        # self.main_dir = main_dir\n",
        "        self.transform = transform\n",
        "        # all_imgs = os.listdir(main_dir)\n",
        "        all_imgs = main_dir['img_path'].to_list()\n",
        "        # self.total_imgs = natsorted(all_imgs)\n",
        "        self.total_imgs = all_imgs\n",
        "        self.labels = main_dir['cat_embed'].to_list()\n",
        "\n",
        "    def __len__(self):\n",
        "        return len(self.total_imgs)\n",
        "\n",
        "    def __getitem__(self, idx):\n",
        "        # img_loc = os.path.join(self.main_dir, self.total_imgs[idx])\n",
        "        img_loc = self.total_imgs[idx]\n",
        "        image = Image.open(img_loc).convert(\"RGB\")\n",
        "        tensor_image = self.transform(image)\n",
        "        # print(self.labels[idx])\n",
        "        tensor_label = torch.tensor(self.labels[idx], dtype=torch.float, device=device)\n",
        "        # print(tensor_label)\n",
        "        # print(\"tensor shape is \",tensor_label.shape)\n",
        "        return [tensor_image,tensor_label]"
      ],
      "execution_count": 54,
      "outputs": []
    },
    {
      "cell_type": "code",
      "metadata": {
        "id": "FwxlhuS-biFW",
        "colab_type": "code",
        "colab": {}
      },
      "source": [
        "chosen_datasets = {x[0]: CustomDataSet(x[1],chosen_transforms[x[0]])\n",
        "                      for x in [('train',train_images_path), ('val',val_images_path)]}"
      ],
      "execution_count": 55,
      "outputs": []
    },
    {
      "cell_type": "code",
      "metadata": {
        "id": "PWoP4S3DZHX1",
        "colab_type": "code",
        "colab": {}
      },
      "source": [
        "dataset_sizes = {x: len(chosen_datasets[x]) for x in ['train', 'val']}\n"
      ],
      "execution_count": 56,
      "outputs": []
    },
    {
      "cell_type": "code",
      "metadata": {
        "id": "UCafNGpJdTlx",
        "colab_type": "code",
        "colab": {}
      },
      "source": [
        "dataloaders = {x: torch.utils.data.DataLoader(chosen_datasets[x], batch_size=400,\n",
        "                                              shuffle=True)\n",
        "              for x in ['train', 'val']}"
      ],
      "execution_count": 57,
      "outputs": []
    },
    {
      "cell_type": "markdown",
      "metadata": {
        "id": "jnGpwVTOnWpW",
        "colab_type": "text"
      },
      "source": [
        "Downloading ResNet34 pretrained model and setting target layer to 1024 dimension since output of S-BERT is 1024 dimensional vector"
      ]
    },
    {
      "cell_type": "code",
      "metadata": {
        "id": "xFg0cBXA1JvA",
        "colab_type": "code",
        "colab": {
          "base_uri": "https://localhost:8080/",
          "height": 83,
          "referenced_widgets": [
            "b4a54319790b4b4c98d5be6ab9e432c4",
            "b18201b2489244c998aff6ec47090490",
            "525d11481383492584a95006e24e1c0a",
            "05b09345fc8443e5844158227fa6801d",
            "2220864d1a8845b6803ed06f10f15baf",
            "edbce2c6c07346909926399a1bd58278",
            "21585492957f4ee8bf308754f0153dc6",
            "b4e66c7ffc934084ac21485d0008b85c"
          ]
        },
        "outputId": "bb729364-1f65-44f4-c708-ad4633a628f7"
      },
      "source": [
        "res_mod = models.resnet34(pretrained=True)\n",
        "# res_mod = models.resnet152(pretrained=True)\n",
        "\n",
        "num_ftrs = res_mod.fc.in_features\n",
        "res_mod.fc = nn.Linear(num_ftrs, 1024)"
      ],
      "execution_count": null,
      "outputs": [
        {
          "output_type": "stream",
          "text": [
            "Downloading: \"https://download.pytorch.org/models/resnet34-333f7ec4.pth\" to /root/.cache/torch/hub/checkpoints/resnet34-333f7ec4.pth\n"
          ],
          "name": "stderr"
        },
        {
          "output_type": "display_data",
          "data": {
            "application/vnd.jupyter.widget-view+json": {
              "model_id": "b4a54319790b4b4c98d5be6ab9e432c4",
              "version_minor": 0,
              "version_major": 2
            },
            "text/plain": [
              "HBox(children=(FloatProgress(value=0.0, max=87306240.0), HTML(value='')))"
            ]
          },
          "metadata": {
            "tags": []
          }
        },
        {
          "output_type": "stream",
          "text": [
            "\n"
          ],
          "name": "stdout"
        }
      ]
    },
    {
      "cell_type": "markdown",
      "metadata": {
        "id": "0fSGYG-KoCv0",
        "colab_type": "text"
      },
      "source": [
        "Try experimenting with different optimization function and setting up different learning rate"
      ]
    },
    {
      "cell_type": "code",
      "metadata": {
        "id": "Rj1ly1Nt2Vll",
        "colab_type": "code",
        "colab": {}
      },
      "source": [
        "res_mod = res_mod.to(device)\n",
        "criterion = torch.nn.MSELoss() \n",
        "\n",
        "# Observe that all parameters are being optimized\n",
        "# optimizer_ft = optim.SGD(res_mod.parameters(), lr=0.001, momentum=0.9)\n",
        "optimizer_ft = optim.AdamW(res_mod.parameters(),lr=0.0015)\n",
        "\n",
        "\n",
        "# Decay LR by a factor of 0.1 every 7 epochs\n",
        "exp_lr_scheduler = lr_scheduler.StepLR(optimizer_ft, step_size=1, gamma=0.1)"
      ],
      "execution_count": null,
      "outputs": []
    },
    {
      "cell_type": "markdown",
      "metadata": {
        "id": "gbWr9yWloetq",
        "colab_type": "text"
      },
      "source": [
        "### Performing Transfer learning\n",
        "Due to large dataset target of training for 3-4 epoch and observing loss wasnt achieved\n",
        "Try switching from Google Colab to paid or your personal GPU enviroment for speeding up process and completing all epochs "
      ]
    },
    {
      "cell_type": "code",
      "metadata": {
        "id": "PPfvzfMF4Sl-",
        "colab_type": "code",
        "colab": {
          "base_uri": "https://localhost:8080/",
          "height": 248,
          "referenced_widgets": [
            "f391f1a266aa47c8b04a3fe56ccc0e07",
            "40357e2d2633487494c1cf0f57bdba93",
            "14ee5881513a4a1695062ab240893918",
            "7d923fbb8c8b495294d698d892f8204d",
            "e2b0406678dc48acb4706538bd743684",
            "aff8ffe6922a4bbb87bd2581e1184946",
            "0174e3bbe85b4b46aff1156ef2e4ff57",
            "bf7250f40c5c47a49a54ff71d4da872a",
            "99695576640a4775b2f4ab15f51c082b",
            "5aecfba9225b4651a1c1a3070a7d6143",
            "6764be98a15e4175b41829f448588da7",
            "4cfcbd411d29407088ff18a895427947",
            "6a3cac2af17b4890bd061811d796ceb2",
            "2f8e113cb9954677a85255b73ea1724f",
            "32602ad728c040dd98c81cdcc5ec628f",
            "db829d4c73bc4c86a5ddc3916508fa4d",
            "7179bb0644c3455da2ff81e96b02b3a2",
            "b5b4fb26ee774648a012d1b280d95f11",
            "54b982a7f0474573a24c235fb7ee7f06",
            "f1557aaac95845dfb9aeb648fd102d01",
            "3f1da8859e9d431da174ffc30b4eba2f",
            "b03c08fa2eb34544a4cde2b80c720d59",
            "6f296d4e0f5d4fe8823280928a855646",
            "b7a91029d4d44b22ab4c66b2016bf766",
            "e266a967f13c44d39f94dbae200cd3c4",
            "7240a3d6649e42da90116c1e4dda0dba",
            "68ecef226b4e472a9ccc100900404768",
            "53d708ae27c94dd193aa638d8c78ad46",
            "b002d32c1bd34d72bb1a1bad1f2b6a88",
            "596b26a9136c497382493b0b1e705d78",
            "53627e3437774da5bda6f813db387f5f",
            "21c60b013ab247b9babc1c246c9eb657",
            "ce28ad338e4e421795dbe6215c0f36fa",
            "199f8cadbef64f1f8aefd38fbf8d0694",
            "44f32e0bf2974abca7c830b82acde3ef",
            "7a2864e02e7344d3acadaad1b8d82ee7",
            "7716925b12114716b4c7cdb58ffd27c1",
            "ed3477972ab848798b773dff98bd81bc",
            "cb265ad0b739466ab4195267c9683cd7",
            "2006ebae27b34efd8f5d4533115d572f",
            "8273d8f1b5c949c6a012311689b9fe58",
            "e00c8264b9bf419f881da1080fe559e6"
          ]
        },
        "outputId": "da3bb99d-48f0-4bb4-ebbb-ca6f773b1c37"
      },
      "source": [
        "model = res_mod\n",
        "criterion = criterion\n",
        "optimizer = optimizer_ft\n",
        "scheduler = exp_lr_scheduler\n",
        "num_epochs=3\n",
        "# def train_model(model, criterion, optimizer, scheduler, num_epochs=10):\n",
        "since = time.time()\n",
        "\n",
        "best_model_wts = copy.deepcopy(model.state_dict())\n",
        "best_loss = 0.0\n",
        "\n",
        "\n",
        "for epoch in atpbar(range(num_epochs),name = \"Epoch status\"):\n",
        "    time.sleep(1)\n",
        "    # print('Epoch {}/{}'.format(epoch, num_epochs - 1))\n",
        "    # print('-' * 10)\n",
        "\n",
        "    # Each epoch has a training and validation phase\n",
        "    for phase in ['train', 'val']:\n",
        "        time.sleep(1)\n",
        "        if phase == 'train':\n",
        "            scheduler.step()\n",
        "            model.train()  # Set model to training mode\n",
        "        else:\n",
        "            model.eval()   # Set model to evaluate mode\n",
        "\n",
        "        current_loss = 0.0\n",
        "        current_corrects = 0\n",
        "\n",
        "        # Here's where the training happens\n",
        "        # print('Iterating through data...')\n",
        "        # counter_ = 0\n",
        "        # loss_graph = []\n",
        "        for inputs, labels in atpbar(dataloaders[phase],name = phase + \" for epoch \"+str(epoch)):\n",
        "            inputs = inputs.to(device)\n",
        "            labels = labels.to(device)\n",
        "\n",
        "            #  We need to zero the gradients, don't forget it\n",
        "            optimizer.zero_grad()\n",
        "\n",
        "            # Time to carry out the forward training poss\n",
        "            # We only need to log the loss stats if we are in training phase\n",
        "            with torch.set_grad_enabled(phase == 'train'):\n",
        "                outputs = model(inputs)\n",
        "                # _, preds = torch.max(outputs, 1)\n",
        "                loss = criterion(torch.flatten(outputs), torch.flatten(labels))\n",
        "\n",
        "                # backward + optimize only if in training phase\n",
        "                if phase == 'train':\n",
        "                    # if counter_ % 1 == 0:\n",
        "                      # print(loss)\n",
        "                      # loss_graph.append(loss)\n",
        "                      # pl.plot(loss_graph)\n",
        "                      # display.clear_output(wait=True)\n",
        "                      # display.display(pl.gcf())\n",
        "                    # counter_ += 1\n",
        "\n",
        "                    loss.backward()\n",
        "                    optimizer.step()\n",
        "\n",
        "            # We want variables to hold the loss statistics\n",
        "            current_loss += loss.item() * inputs.size(0)\n",
        "            # current_corrects += torch.sum(preds == labels.data)\n",
        "\n",
        "        epoch_loss = current_loss / dataset_sizes[phase]\n",
        "        # epoch_acc = current_corrects.double() / dataset_sizes[phase]\n",
        "\n",
        "        # print('{} Loss: {:.4f} '.format(\n",
        "        #     phase, epoch_loss))\n",
        "\n",
        "        # Make a copy of the model if the accuracy on the validation set has improved\n",
        "        if phase == 'val' and epoch_loss > best_loss:\n",
        "            best_loss = epoch_loss\n",
        "            best_model_wts = copy.deepcopy(model.state_dict())\n",
        "            torch.save(model,\"model/model_resnet.pth\")\n",
        "\n",
        "    print()\n",
        "\n",
        "time_since = time.time() - since\n",
        "print('Training complete in {:.0f}m {:.0f}s'.format(\n",
        "    time_since // 60, time_since % 60))\n",
        "print('Best val Loss: {:4f}'.format(best_loss))\n",
        "\n",
        "# Now we'll load in the best model weights and return it\n",
        "model.load_state_dict(best_model_wts)\n",
        "    # return model\n"
      ],
      "execution_count": null,
      "outputs": [
        {
          "output_type": "display_data",
          "data": {
            "application/vnd.jupyter.widget-view+json": {
              "model_id": "f391f1a266aa47c8b04a3fe56ccc0e07",
              "version_minor": 0,
              "version_major": 2
            },
            "text/plain": [
              "VBox()"
            ]
          },
          "metadata": {
            "tags": []
          }
        },
        {
          "output_type": "stream",
          "text": [
            "/usr/local/lib/python3.6/dist-packages/torch/optim/lr_scheduler.py:123: UserWarning: Detected call of `lr_scheduler.step()` before `optimizer.step()`. In PyTorch 1.1.0 and later, you should call them in the opposite order: `optimizer.step()` before `lr_scheduler.step()`.  Failure to do this will result in PyTorch skipping the first value of the learning rate schedule. See more details at https://pytorch.org/docs/stable/optim.html#how-to-adjust-learning-rate\n",
            "  \"https://pytorch.org/docs/stable/optim.html#how-to-adjust-learning-rate\", UserWarning)\n"
          ],
          "name": "stderr"
        },
        {
          "output_type": "stream",
          "text": [
            "\n"
          ],
          "name": "stdout"
        }
      ]
    },
    {
      "cell_type": "markdown",
      "metadata": {
        "id": "OhdNaHOHpPdl",
        "colab_type": "text"
      },
      "source": [
        "Since mounted google drive never copy data directory from google colab instantly therefore syncing takes quite sometime. Below command keeps running until drive is completely synced "
      ]
    },
    {
      "cell_type": "code",
      "metadata": {
        "id": "y0eZpJ4iWL9B",
        "colab_type": "code",
        "colab": {}
      },
      "source": [
        "drive.flush_and_unmount()"
      ],
      "execution_count": null,
      "outputs": []
    },
    {
      "cell_type": "markdown",
      "metadata": {
        "id": "-5CIa1rIpojf",
        "colab_type": "text"
      },
      "source": [
        "### Testing model on Sample image"
      ]
    },
    {
      "cell_type": "code",
      "metadata": {
        "id": "lH_dBws48_p-",
        "colab_type": "code",
        "colab": {
          "base_uri": "https://localhost:8080/",
          "height": 34
        },
        "outputId": "e71bd7ec-b810-41c8-e244-6a48c3ae04ca"
      },
      "source": [
        "!ls model/"
      ],
      "execution_count": 26,
      "outputs": [
        {
          "output_type": "stream",
          "text": [
            "model_resnet.pth\n"
          ],
          "name": "stdout"
        }
      ]
    },
    {
      "cell_type": "code",
      "metadata": {
        "id": "TopmVIaf_68D",
        "colab_type": "code",
        "colab": {}
      },
      "source": [
        "model = torch.load(\"model/model_resnet.pth\")\n",
        "best_model_wts = copy.deepcopy(model.state_dict())\n",
        "model.load_state_dict(best_model_wts)\n",
        "model = model.eval()"
      ],
      "execution_count": 59,
      "outputs": []
    },
    {
      "cell_type": "code",
      "metadata": {
        "id": "7Z4NFNQ4ESs3",
        "colab_type": "code",
        "colab": {}
      },
      "source": [
        "pred = model(chosen_datasets['val'].__getitem__(0)[0].unsqueeze(0).to(device))"
      ],
      "execution_count": 60,
      "outputs": []
    },
    {
      "cell_type": "code",
      "metadata": {
        "id": "VxMgvj2-Kre3",
        "colab_type": "code",
        "colab": {}
      },
      "source": [
        "lab = chosen_datasets['val'].__getitem__(0)[1].unsqueeze(0).to(device)"
      ],
      "execution_count": 61,
      "outputs": []
    },
    {
      "cell_type": "code",
      "metadata": {
        "id": "f2A8OMYoHf2s",
        "colab_type": "code",
        "colab": {}
      },
      "source": [
        "cos = nn.CosineSimilarity(dim=1, eps=1e-6)"
      ],
      "execution_count": 62,
      "outputs": []
    },
    {
      "cell_type": "code",
      "metadata": {
        "id": "nrLUfMJvKPSJ",
        "colab_type": "code",
        "colab": {
          "base_uri": "https://localhost:8080/",
          "height": 34
        },
        "outputId": "80cb8383-ea8f-4639-f8fb-cb7483657481"
      },
      "source": [
        "cos(lab, pred) "
      ],
      "execution_count": 63,
      "outputs": [
        {
          "output_type": "execute_result",
          "data": {
            "text/plain": [
              "tensor([0.6395], device='cuda:0', grad_fn=<DivBackward0>)"
            ]
          },
          "metadata": {
            "tags": []
          },
          "execution_count": 63
        }
      ]
    },
    {
      "cell_type": "markdown",
      "metadata": {
        "id": "kPbY5hwzp_p8",
        "colab_type": "text"
      },
      "source": [
        "## Due to generalization cosine angle is not zero definitely there will be some information loss. Here are some suggestions to reduce information loss:\n",
        "\n",
        "\n",
        "1.   Try different Lang model for sentence encoding like ULMFIT, USE or other.\n",
        "2.   Play with the hyperparameter tuning and train it for more epoch and observe loss value.\n",
        "3.   Try unfreezing the last layer of model and also add one more hidden layer to it to getter better results. This will surely improve results to quite extent.\n",
        "4.   Use High resolution image atleast 256 dim, tiny imagenet constitue of image of 64x64\n",
        "\n",
        "\n"
      ]
    },
    {
      "cell_type": "markdown",
      "metadata": {
        "id": "uJMC87UM-xWu",
        "colab_type": "text"
      },
      "source": [
        "# **Creating Annoy indexing**\n",
        "For details go to https://github.com/spotify/annoy\n",
        "\n",
        "---\n",
        "\n"
      ]
    },
    {
      "cell_type": "code",
      "metadata": {
        "id": "TnFFptSn_5Lv",
        "colab_type": "code",
        "colab": {
          "base_uri": "https://localhost:8080/",
          "height": 187
        },
        "outputId": "96baae7f-2a5a-45e8-c2ec-89189e1db3c1"
      },
      "source": [
        "!pip install annoy"
      ],
      "execution_count": 70,
      "outputs": [
        {
          "output_type": "stream",
          "text": [
            "Collecting annoy\n",
            "\u001b[?25l  Downloading https://files.pythonhosted.org/packages/00/15/5a9db225ebda93a235aebd5e42bbf83ab7035e7e4783c6cb528c635c9afb/annoy-1.16.3.tar.gz (644kB)\n",
            "\r\u001b[K     |▌                               | 10kB 18.8MB/s eta 0:00:01\r\u001b[K     |█                               | 20kB 4.7MB/s eta 0:00:01\r\u001b[K     |█▌                              | 30kB 6.1MB/s eta 0:00:01\r\u001b[K     |██                              | 40kB 6.1MB/s eta 0:00:01\r\u001b[K     |██▌                             | 51kB 5.3MB/s eta 0:00:01\r\u001b[K     |███                             | 61kB 5.8MB/s eta 0:00:01\r\u001b[K     |███▋                            | 71kB 6.3MB/s eta 0:00:01\r\u001b[K     |████                            | 81kB 6.7MB/s eta 0:00:01\r\u001b[K     |████▋                           | 92kB 7.0MB/s eta 0:00:01\r\u001b[K     |█████                           | 102kB 7.2MB/s eta 0:00:01\r\u001b[K     |█████▋                          | 112kB 7.2MB/s eta 0:00:01\r\u001b[K     |██████                          | 122kB 7.2MB/s eta 0:00:01\r\u001b[K     |██████▋                         | 133kB 7.2MB/s eta 0:00:01\r\u001b[K     |███████▏                        | 143kB 7.2MB/s eta 0:00:01\r\u001b[K     |███████▋                        | 153kB 7.2MB/s eta 0:00:01\r\u001b[K     |████████▏                       | 163kB 7.2MB/s eta 0:00:01\r\u001b[K     |████████▋                       | 174kB 7.2MB/s eta 0:00:01\r\u001b[K     |█████████▏                      | 184kB 7.2MB/s eta 0:00:01\r\u001b[K     |█████████▋                      | 194kB 7.2MB/s eta 0:00:01\r\u001b[K     |██████████▏                     | 204kB 7.2MB/s eta 0:00:01\r\u001b[K     |██████████▊                     | 215kB 7.2MB/s eta 0:00:01\r\u001b[K     |███████████▏                    | 225kB 7.2MB/s eta 0:00:01\r\u001b[K     |███████████▊                    | 235kB 7.2MB/s eta 0:00:01\r\u001b[K     |████████████▏                   | 245kB 7.2MB/s eta 0:00:01\r\u001b[K     |████████████▊                   | 256kB 7.2MB/s eta 0:00:01\r\u001b[K     |█████████████▎                  | 266kB 7.2MB/s eta 0:00:01\r\u001b[K     |█████████████▊                  | 276kB 7.2MB/s eta 0:00:01\r\u001b[K     |██████████████▎                 | 286kB 7.2MB/s eta 0:00:01\r\u001b[K     |██████████████▊                 | 296kB 7.2MB/s eta 0:00:01\r\u001b[K     |███████████████▎                | 307kB 7.2MB/s eta 0:00:01\r\u001b[K     |███████████████▊                | 317kB 7.2MB/s eta 0:00:01\r\u001b[K     |████████████████▎               | 327kB 7.2MB/s eta 0:00:01\r\u001b[K     |████████████████▉               | 337kB 7.2MB/s eta 0:00:01\r\u001b[K     |█████████████████▎              | 348kB 7.2MB/s eta 0:00:01\r\u001b[K     |█████████████████▉              | 358kB 7.2MB/s eta 0:00:01\r\u001b[K     |██████████████████▎             | 368kB 7.2MB/s eta 0:00:01\r\u001b[K     |██████████████████▉             | 378kB 7.2MB/s eta 0:00:01\r\u001b[K     |███████████████████▎            | 389kB 7.2MB/s eta 0:00:01\r\u001b[K     |███████████████████▉            | 399kB 7.2MB/s eta 0:00:01\r\u001b[K     |████████████████████▍           | 409kB 7.2MB/s eta 0:00:01\r\u001b[K     |████████████████████▉           | 419kB 7.2MB/s eta 0:00:01\r\u001b[K     |█████████████████████▍          | 430kB 7.2MB/s eta 0:00:01\r\u001b[K     |█████████████████████▉          | 440kB 7.2MB/s eta 0:00:01\r\u001b[K     |██████████████████████▍         | 450kB 7.2MB/s eta 0:00:01\r\u001b[K     |██████████████████████▉         | 460kB 7.2MB/s eta 0:00:01\r\u001b[K     |███████████████████████▍        | 471kB 7.2MB/s eta 0:00:01\r\u001b[K     |████████████████████████        | 481kB 7.2MB/s eta 0:00:01\r\u001b[K     |████████████████████████▍       | 491kB 7.2MB/s eta 0:00:01\r\u001b[K     |█████████████████████████       | 501kB 7.2MB/s eta 0:00:01\r\u001b[K     |█████████████████████████▍      | 512kB 7.2MB/s eta 0:00:01\r\u001b[K     |██████████████████████████      | 522kB 7.2MB/s eta 0:00:01\r\u001b[K     |██████████████████████████▌     | 532kB 7.2MB/s eta 0:00:01\r\u001b[K     |███████████████████████████     | 542kB 7.2MB/s eta 0:00:01\r\u001b[K     |███████████████████████████▌    | 552kB 7.2MB/s eta 0:00:01\r\u001b[K     |████████████████████████████    | 563kB 7.2MB/s eta 0:00:01\r\u001b[K     |████████████████████████████▌   | 573kB 7.2MB/s eta 0:00:01\r\u001b[K     |█████████████████████████████   | 583kB 7.2MB/s eta 0:00:01\r\u001b[K     |█████████████████████████████▌  | 593kB 7.2MB/s eta 0:00:01\r\u001b[K     |██████████████████████████████  | 604kB 7.2MB/s eta 0:00:01\r\u001b[K     |██████████████████████████████▌ | 614kB 7.2MB/s eta 0:00:01\r\u001b[K     |███████████████████████████████ | 624kB 7.2MB/s eta 0:00:01\r\u001b[K     |███████████████████████████████▌| 634kB 7.2MB/s eta 0:00:01\r\u001b[K     |████████████████████████████████| 645kB 7.2MB/s \n",
            "\u001b[?25hBuilding wheels for collected packages: annoy\n",
            "  Building wheel for annoy (setup.py) ... \u001b[?25l\u001b[?25hdone\n",
            "  Created wheel for annoy: filename=annoy-1.16.3-cp36-cp36m-linux_x86_64.whl size=297329 sha256=5148eff107a6b27d59d342a60aa9346aa43fb71d577ef090f1b04d3b43acc29b\n",
            "  Stored in directory: /root/.cache/pip/wheels/f3/01/54/6ef760fe9f9fc6ba8c19cebbe6358212b5f3b5b0195c0b813f\n",
            "Successfully built annoy\n",
            "Installing collected packages: annoy\n",
            "Successfully installed annoy-1.16.3\n"
          ],
          "name": "stdout"
        }
      ]
    },
    {
      "cell_type": "code",
      "metadata": {
        "id": "QSUcVBQ15r0Y",
        "colab_type": "code",
        "colab": {}
      },
      "source": [
        "model = torch.load(\"model/model_resnet.pth\")\n",
        "best_model_wts = copy.deepcopy(model.state_dict())\n",
        "model.load_state_dict(best_model_wts)\n",
        "model = model.eval()"
      ],
      "execution_count": 64,
      "outputs": []
    },
    {
      "cell_type": "markdown",
      "metadata": {
        "id": "6-r56Nh_Eay5",
        "colab_type": "text"
      },
      "source": [
        "For demo purpose and time limitation we will only index validation data."
      ]
    },
    {
      "cell_type": "code",
      "metadata": {
        "id": "R7TZVEuSLEbl",
        "colab_type": "code",
        "colab": {
          "base_uri": "https://localhost:8080/",
          "height": 153
        },
        "outputId": "becda357-7c5a-4d1f-9a40-a6abc66b62a7"
      },
      "source": [
        "from annoy import AnnoyIndex\n",
        "t = AnnoyIndex(1024, 'angular') # 1024 is dimension of sentence encoding\n",
        "count = 0\n",
        "for inputs, _ in tqdm(chosen_datasets['val'], position=0, leave=True):\n",
        "  pred = model(inputs.unsqueeze(0).to(device)).tolist()[0]\n",
        "  t.add_item(count, pred)\n",
        "  count += 1\n",
        "\n",
        "t.build(100) # 10 trees\n",
        "t.save('model/encoding.ann')"
      ],
      "execution_count": 80,
      "outputs": [
        {
          "output_type": "stream",
          "text": [
            "100%|██████████| 10000/10000 [1:13:43<00:00,  1.97it/s]\n",
            "\n",
            "\n",
            "\u001b[A\u001b[A\u001b[A\n",
            "\n",
            "\u001b[A\u001b[A\n",
            "100%|██████████| 10000/10000 [1:13:43<00:00,  2.26it/s]\n"
          ],
          "name": "stderr"
        },
        {
          "output_type": "execute_result",
          "data": {
            "text/plain": [
              "True"
            ]
          },
          "metadata": {
            "tags": []
          },
          "execution_count": 80
        }
      ]
    },
    {
      "cell_type": "code",
      "metadata": {
        "id": "HJ-feld14IPt",
        "colab_type": "code",
        "colab": {}
      },
      "source": [
        "val_images_path[['img_path','cat']].to_csv(\"model/val_path.csv\",index=False)"
      ],
      "execution_count": 86,
      "outputs": []
    },
    {
      "cell_type": "code",
      "metadata": {
        "id": "d4dz2Z4ma31G",
        "colab_type": "code",
        "colab": {}
      },
      "source": [
        ""
      ],
      "execution_count": null,
      "outputs": []
    }
  ]
}